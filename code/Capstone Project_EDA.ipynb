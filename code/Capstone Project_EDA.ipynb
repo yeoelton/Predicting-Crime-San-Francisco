{
 "cells": [
  {
   "cell_type": "markdown",
   "metadata": {},
   "source": [
    "### Capstone Project: Predicting Crime in San Francisco\n",
    "\n",
    "by Elton Yeo, DSI13"
   ]
  },
  {
   "cell_type": "markdown",
   "metadata": {},
   "source": [
    "#### Problem Statement and Context\n",
    "\n",
    "Police departments have limited frontline resources, and need to prioritise areas where their officers patrol. Police patrols are important because they project presence, which can deter criminals and increase the sense of safety for residents. \n",
    "\n",
    "This project aims to predict the number of crime incidents that will take place in a particular zip code, given a range of variables such as the day of the week and time of the day. The data will be run through 3 regression models: linear regression, random forest, and XGBoost. \n",
    "\n",
    "The models will be trained on 2018 data, and tested on 2019 data, and evaluated by their r-sqaured scores. Success is defined as a r-sqaured score of 0.8 and above, which means that the model explains 80% or more of the variability of the target data that is predictable from the independent variables.\n",
    "\n",
    "(Question: should i do a train-test split on the entire dataset, or as above?)\n",
    "\n",
    "#### Risks and Assumptions of Data\n",
    "\n",
    "The data may have been recorded in a manner that is useful for frontline officers or operators, thus impeding data cleaing and our understanding of the data. \n",
    "\n",
    "We assume that the data was recorded/provided accurately by the frontline officers or the citizens who had reported the crimes. \n",
    "\n",
    "Data source: https://data.sfgov.org/Public-Safety/Police-Department-Incident-Reports-2018-to-Present/wg3w-h783"
   ]
  },
  {
   "cell_type": "code",
   "execution_count": 2,
   "metadata": {},
   "outputs": [
    {
     "name": "stderr",
     "output_type": "stream",
     "text": [
      "C:\\Users\\elton\\Anaconda3\\lib\\site-packages\\statsmodels\\tools\\_testing.py:19: FutureWarning: pandas.util.testing is deprecated. Use the functions in the public API at pandas.testing instead.\n",
      "  import pandas.util.testing as tm\n"
     ]
    }
   ],
   "source": [
    "import pandas as pd\n",
    "import numpy as np\n",
    "import seaborn as sns\n",
    "import matplotlib.pyplot as plt"
   ]
  },
  {
   "cell_type": "code",
   "execution_count": 3,
   "metadata": {
    "scrolled": true
   },
   "outputs": [],
   "source": [
    "reports=pd.read_csv('../data/reports.csv')"
   ]
  },
  {
   "cell_type": "raw",
   "metadata": {},
   "source": [
    "reports.info()"
   ]
  },
  {
   "cell_type": "code",
   "execution_count": 5,
   "metadata": {},
   "outputs": [
    {
     "data": {
      "text/html": [
       "<div>\n",
       "<style scoped>\n",
       "    .dataframe tbody tr th:only-of-type {\n",
       "        vertical-align: middle;\n",
       "    }\n",
       "\n",
       "    .dataframe tbody tr th {\n",
       "        vertical-align: top;\n",
       "    }\n",
       "\n",
       "    .dataframe thead th {\n",
       "        text-align: right;\n",
       "    }\n",
       "</style>\n",
       "<table border=\"1\" class=\"dataframe\">\n",
       "  <thead>\n",
       "    <tr style=\"text-align: right;\">\n",
       "      <th></th>\n",
       "      <th>Incident Datetime</th>\n",
       "      <th>Incident Date</th>\n",
       "      <th>Incident Time</th>\n",
       "      <th>Incident Year</th>\n",
       "      <th>Incident Day of Week</th>\n",
       "      <th>Report Datetime</th>\n",
       "      <th>Row ID</th>\n",
       "      <th>Incident ID</th>\n",
       "      <th>Incident Number</th>\n",
       "      <th>CAD Number</th>\n",
       "      <th>...</th>\n",
       "      <th>SF Find Neighborhoods</th>\n",
       "      <th>Current Police Districts</th>\n",
       "      <th>Current Supervisor Districts</th>\n",
       "      <th>Analysis Neighborhoods</th>\n",
       "      <th>HSOC Zones as of 2018-06-05</th>\n",
       "      <th>OWED Public Spaces</th>\n",
       "      <th>Central Market/Tenderloin Boundary Polygon - Updated</th>\n",
       "      <th>Parks Alliance CPSI (27+TL sites)</th>\n",
       "      <th>ESNCAG - Boundary File</th>\n",
       "      <th>Areas of Vulnerability, 2016</th>\n",
       "    </tr>\n",
       "  </thead>\n",
       "  <tbody>\n",
       "    <tr>\n",
       "      <th>0</th>\n",
       "      <td>2019/05/01 01:00:00 AM</td>\n",
       "      <td>2019/05/01</td>\n",
       "      <td>01:00</td>\n",
       "      <td>2019</td>\n",
       "      <td>Wednesday</td>\n",
       "      <td>2019/06/12 08:27:00 PM</td>\n",
       "      <td>81097515200</td>\n",
       "      <td>810975</td>\n",
       "      <td>190424067</td>\n",
       "      <td>191634131.0</td>\n",
       "      <td>...</td>\n",
       "      <td>39.0</td>\n",
       "      <td>10.0</td>\n",
       "      <td>7.0</td>\n",
       "      <td>35.0</td>\n",
       "      <td>NaN</td>\n",
       "      <td>NaN</td>\n",
       "      <td>NaN</td>\n",
       "      <td>NaN</td>\n",
       "      <td>NaN</td>\n",
       "      <td>1.0</td>\n",
       "    </tr>\n",
       "    <tr>\n",
       "      <th>1</th>\n",
       "      <td>2019/06/22 07:45:00 AM</td>\n",
       "      <td>2019/06/22</td>\n",
       "      <td>07:45</td>\n",
       "      <td>2019</td>\n",
       "      <td>Saturday</td>\n",
       "      <td>2019/06/22 08:05:00 AM</td>\n",
       "      <td>81465564020</td>\n",
       "      <td>814655</td>\n",
       "      <td>190450880</td>\n",
       "      <td>191730737.0</td>\n",
       "      <td>...</td>\n",
       "      <td>32.0</td>\n",
       "      <td>1.0</td>\n",
       "      <td>10.0</td>\n",
       "      <td>34.0</td>\n",
       "      <td>1.0</td>\n",
       "      <td>NaN</td>\n",
       "      <td>1.0</td>\n",
       "      <td>NaN</td>\n",
       "      <td>NaN</td>\n",
       "      <td>2.0</td>\n",
       "    </tr>\n",
       "    <tr>\n",
       "      <th>2</th>\n",
       "      <td>2019/06/03 04:16:00 PM</td>\n",
       "      <td>2019/06/03</td>\n",
       "      <td>16:16</td>\n",
       "      <td>2019</td>\n",
       "      <td>Monday</td>\n",
       "      <td>2019/06/03 04:16:00 PM</td>\n",
       "      <td>80769875000</td>\n",
       "      <td>807698</td>\n",
       "      <td>190397016</td>\n",
       "      <td>191533509.0</td>\n",
       "      <td>...</td>\n",
       "      <td>88.0</td>\n",
       "      <td>2.0</td>\n",
       "      <td>9.0</td>\n",
       "      <td>1.0</td>\n",
       "      <td>NaN</td>\n",
       "      <td>NaN</td>\n",
       "      <td>NaN</td>\n",
       "      <td>NaN</td>\n",
       "      <td>NaN</td>\n",
       "      <td>2.0</td>\n",
       "    </tr>\n",
       "    <tr>\n",
       "      <th>3</th>\n",
       "      <td>2018/11/16 04:34:00 PM</td>\n",
       "      <td>2018/11/16</td>\n",
       "      <td>16:34</td>\n",
       "      <td>2018</td>\n",
       "      <td>Friday</td>\n",
       "      <td>2018/11/16 04:34:00 PM</td>\n",
       "      <td>73857915041</td>\n",
       "      <td>738579</td>\n",
       "      <td>180870806</td>\n",
       "      <td>183202539.0</td>\n",
       "      <td>...</td>\n",
       "      <td>104.0</td>\n",
       "      <td>6.0</td>\n",
       "      <td>3.0</td>\n",
       "      <td>6.0</td>\n",
       "      <td>NaN</td>\n",
       "      <td>18.0</td>\n",
       "      <td>NaN</td>\n",
       "      <td>NaN</td>\n",
       "      <td>NaN</td>\n",
       "      <td>2.0</td>\n",
       "    </tr>\n",
       "    <tr>\n",
       "      <th>4</th>\n",
       "      <td>2019/05/27 02:25:00 AM</td>\n",
       "      <td>2019/05/27</td>\n",
       "      <td>02:25</td>\n",
       "      <td>2019</td>\n",
       "      <td>Monday</td>\n",
       "      <td>2019/05/27 02:55:00 AM</td>\n",
       "      <td>80509204134</td>\n",
       "      <td>805092</td>\n",
       "      <td>190378555</td>\n",
       "      <td>191470256.0</td>\n",
       "      <td>...</td>\n",
       "      <td>15.0</td>\n",
       "      <td>4.0</td>\n",
       "      <td>6.0</td>\n",
       "      <td>13.0</td>\n",
       "      <td>NaN</td>\n",
       "      <td>NaN</td>\n",
       "      <td>NaN</td>\n",
       "      <td>NaN</td>\n",
       "      <td>NaN</td>\n",
       "      <td>1.0</td>\n",
       "    </tr>\n",
       "  </tbody>\n",
       "</table>\n",
       "<p>5 rows × 36 columns</p>\n",
       "</div>"
      ],
      "text/plain": [
       "        Incident Datetime Incident Date Incident Time  Incident Year  \\\n",
       "0  2019/05/01 01:00:00 AM    2019/05/01         01:00           2019   \n",
       "1  2019/06/22 07:45:00 AM    2019/06/22         07:45           2019   \n",
       "2  2019/06/03 04:16:00 PM    2019/06/03         16:16           2019   \n",
       "3  2018/11/16 04:34:00 PM    2018/11/16         16:34           2018   \n",
       "4  2019/05/27 02:25:00 AM    2019/05/27         02:25           2019   \n",
       "\n",
       "  Incident Day of Week         Report Datetime       Row ID  Incident ID  \\\n",
       "0            Wednesday  2019/06/12 08:27:00 PM  81097515200       810975   \n",
       "1             Saturday  2019/06/22 08:05:00 AM  81465564020       814655   \n",
       "2               Monday  2019/06/03 04:16:00 PM  80769875000       807698   \n",
       "3               Friday  2018/11/16 04:34:00 PM  73857915041       738579   \n",
       "4               Monday  2019/05/27 02:55:00 AM  80509204134       805092   \n",
       "\n",
       "   Incident Number   CAD Number  ... SF Find Neighborhoods  \\\n",
       "0        190424067  191634131.0  ...                  39.0   \n",
       "1        190450880  191730737.0  ...                  32.0   \n",
       "2        190397016  191533509.0  ...                  88.0   \n",
       "3        180870806  183202539.0  ...                 104.0   \n",
       "4        190378555  191470256.0  ...                  15.0   \n",
       "\n",
       "  Current Police Districts Current Supervisor Districts  \\\n",
       "0                     10.0                          7.0   \n",
       "1                      1.0                         10.0   \n",
       "2                      2.0                          9.0   \n",
       "3                      6.0                          3.0   \n",
       "4                      4.0                          6.0   \n",
       "\n",
       "   Analysis Neighborhoods HSOC Zones as of 2018-06-05 OWED Public Spaces  \\\n",
       "0                    35.0                         NaN                NaN   \n",
       "1                    34.0                         1.0                NaN   \n",
       "2                     1.0                         NaN                NaN   \n",
       "3                     6.0                         NaN               18.0   \n",
       "4                    13.0                         NaN                NaN   \n",
       "\n",
       "  Central Market/Tenderloin Boundary Polygon - Updated  \\\n",
       "0                                                NaN     \n",
       "1                                                1.0     \n",
       "2                                                NaN     \n",
       "3                                                NaN     \n",
       "4                                                NaN     \n",
       "\n",
       "  Parks Alliance CPSI (27+TL sites) ESNCAG - Boundary File  \\\n",
       "0                               NaN                    NaN   \n",
       "1                               NaN                    NaN   \n",
       "2                               NaN                    NaN   \n",
       "3                               NaN                    NaN   \n",
       "4                               NaN                    NaN   \n",
       "\n",
       "   Areas of Vulnerability, 2016  \n",
       "0                           1.0  \n",
       "1                           2.0  \n",
       "2                           2.0  \n",
       "3                           2.0  \n",
       "4                           1.0  \n",
       "\n",
       "[5 rows x 36 columns]"
      ]
     },
     "execution_count": 5,
     "metadata": {},
     "output_type": "execute_result"
    }
   ],
   "source": [
    "reports.head()"
   ]
  },
  {
   "cell_type": "code",
   "execution_count": 6,
   "metadata": {},
   "outputs": [
    {
     "data": {
      "text/plain": [
       "Incident Datetime                                            0\n",
       "Incident Date                                                0\n",
       "Incident Time                                                0\n",
       "Incident Year                                                0\n",
       "Incident Day of Week                                         0\n",
       "Report Datetime                                              0\n",
       "Row ID                                                       0\n",
       "Incident ID                                                  0\n",
       "Incident Number                                              0\n",
       "CAD Number                                               76640\n",
       "Report Type Code                                             0\n",
       "Report Type Description                                      0\n",
       "Filed Online                                            258059\n",
       "Incident Code                                                0\n",
       "Incident Category                                           31\n",
       "Incident Subcategory                                        31\n",
       "Incident Description                                         0\n",
       "Resolution                                                   0\n",
       "Intersection                                             17668\n",
       "CNN                                                      17668\n",
       "Police District                                              0\n",
       "Analysis Neighborhood                                    17733\n",
       "Supervisor District                                      17668\n",
       "Latitude                                                 17668\n",
       "Longitude                                                17668\n",
       "point                                                    17668\n",
       "SF Find Neighborhoods                                    24336\n",
       "Current Police Districts                                 18142\n",
       "Current Supervisor Districts                             17729\n",
       "Analysis Neighborhoods                                   17794\n",
       "HSOC Zones as of 2018-06-05                             256150\n",
       "OWED Public Spaces                                      312783\n",
       "Central Market/Tenderloin Boundary Polygon - Updated    285768\n",
       "Parks Alliance CPSI (27+TL sites)                       325387\n",
       "ESNCAG - Boundary File                                  325828\n",
       "Areas of Vulnerability, 2016                             17794\n",
       "dtype: int64"
      ]
     },
     "execution_count": 6,
     "metadata": {},
     "output_type": "execute_result"
    }
   ],
   "source": [
    "reports.isnull().sum()"
   ]
  },
  {
   "cell_type": "code",
   "execution_count": 11,
   "metadata": {
    "scrolled": false
   },
   "outputs": [
    {
     "data": {
      "text/plain": [
       "1.0    32334\n",
       "3.0    29266\n",
       "5.0     8872\n",
       "4.0     1574\n",
       "2.0     1273\n",
       "Name: HSOC Zones as of 2018-06-05, dtype: int64"
      ]
     },
     "execution_count": 11,
     "metadata": {},
     "output_type": "execute_result"
    }
   ],
   "source": [
    "reports['HSOC Zones as of 2018-06-05'].value_counts()"
   ]
  },
  {
   "cell_type": "markdown",
   "metadata": {},
   "source": [
    "HSOC refers to \"Healthy Streets Operation Center\", a San Francisco inter-agecy effort (SF Police Dept, Dept of Public Health, SF Public Works etc.) to coordinate the City's response to homelessness.\n",
    "\n",
    "Source: http://hsh.sfgov.org/wp-content/uploads/HSOC-Presentation-for-LHCB-FINAL.pdf"
   ]
  },
  {
   "cell_type": "code",
   "execution_count": 9,
   "metadata": {
    "scrolled": true
   },
   "outputs": [
    {
     "data": {
      "text/plain": [
       "35.0    10133\n",
       "50.0     1660\n",
       "39.0      961\n",
       "15.0      940\n",
       "16.0      562\n",
       "18.0      416\n",
       "70.0      399\n",
       "3.0       248\n",
       "31.0      203\n",
       "80.0      190\n",
       "29.0      174\n",
       "7.0       173\n",
       "23.0       95\n",
       "6.0        90\n",
       "14.0       83\n",
       "61.0       80\n",
       "58.0       73\n",
       "17.0       58\n",
       "75.0       55\n",
       "54.0       25\n",
       "8.0        25\n",
       "30.0       20\n",
       "42.0        7\n",
       "71.0        6\n",
       "43.0        5\n",
       "46.0        4\n",
       "79.0        1\n",
       "Name: OWED Public Spaces, dtype: int64"
      ]
     },
     "execution_count": 9,
     "metadata": {},
     "output_type": "execute_result"
    }
   ],
   "source": [
    "reports['OWED Public Spaces'].value_counts()"
   ]
  },
  {
   "cell_type": "markdown",
   "metadata": {},
   "source": [
    "A list of public spaces being considered for management and activation by Office of Economic & Workforce Development (OEWD).\n",
    "\n",
    "Source: https://data.sfgov.org/Geographic-Locations-and-Boundaries/OWED-Public-Spaces/gkqa-s74m"
   ]
  },
  {
   "cell_type": "code",
   "execution_count": 10,
   "metadata": {},
   "outputs": [
    {
     "data": {
      "text/plain": [
       "1.0    43701\n",
       "Name: Central Market/Tenderloin Boundary Polygon - Updated, dtype: int64"
      ]
     },
     "execution_count": 10,
     "metadata": {},
     "output_type": "execute_result"
    }
   ],
   "source": [
    "reports['Central Market/Tenderloin Boundary Polygon - Updated'].value_counts()"
   ]
  },
  {
   "cell_type": "markdown",
   "metadata": {},
   "source": [
    "This marks whethere or not the crime took place within the Central Market/Tenderloin district.\n",
    "\n",
    "Source: https://data.sfgov.org/Geographic-Locations-and-Boundaries/Central-Market-Tenderloin-Boundary-Polygon/ywcr-44b8"
   ]
  },
  {
   "cell_type": "code",
   "execution_count": 12,
   "metadata": {
    "scrolled": true
   },
   "outputs": [
    {
     "data": {
      "text/plain": [
       "24.0    1660\n",
       "23.0    1246\n",
       "31.0     961\n",
       "1.0      111\n",
       "6.0       47\n",
       "5.0       47\n",
       "3.0       10\n",
       "Name: Parks Alliance CPSI (27+TL sites), dtype: int64"
      ]
     },
     "execution_count": 12,
     "metadata": {},
     "output_type": "execute_result"
    }
   ],
   "source": [
    "reports['Parks Alliance CPSI (27+TL sites)'].value_counts()"
   ]
  },
  {
   "cell_type": "markdown",
   "metadata": {},
   "source": [
    "Boundaries of 27 open space sites that are part of the OEWD Citywide Public Space Initiative, plus UN Plaza, Boeddeker Park, TL Recreation Center, and Civic Center Plaza.\n",
    "\n",
    "In this dataset, it marks which of those public spaces the crime had taken place in.\n",
    "\n",
    "Source: https://data.sfgov.org/Geographic-Locations-and-Boundaries/Parks-Alliance-CPSI-27-TL-sites-/qjyb-yy3m"
   ]
  },
  {
   "cell_type": "code",
   "execution_count": 13,
   "metadata": {},
   "outputs": [
    {
     "data": {
      "text/plain": [
       "1.0    3641\n",
       "Name: ESNCAG - Boundary File, dtype: int64"
      ]
     },
     "execution_count": 13,
     "metadata": {},
     "output_type": "execute_result"
    }
   ],
   "source": [
    "reports['ESNCAG - Boundary File'].value_counts()"
   ]
  },
  {
   "cell_type": "markdown",
   "metadata": {},
   "source": [
    "Marks whether the crime took place within the Embarcadero SAFE Navigation Center (ESNCAG) or not. \n",
    "\n",
    "Source: https://data.sfgov.org/dataset/ESNCAG-Boundary-File/8cs3-kxq7\n",
    "\n",
    "https://sfmayor.org/article/embarcadero-safe-navigation-center-slated-open-end-year"
   ]
  },
  {
   "cell_type": "code",
   "execution_count": 14,
   "metadata": {
    "scrolled": true
   },
   "outputs": [
    {
     "data": {
      "text/plain": [
       "2.0    172017\n",
       "1.0    139658\n",
       "Name: Areas of Vulnerability, 2016, dtype: int64"
      ]
     },
     "execution_count": 14,
     "metadata": {},
     "output_type": "execute_result"
    }
   ],
   "source": [
    "reports['Areas of Vulnerability, 2016'].value_counts()"
   ]
  },
  {
   "cell_type": "markdown",
   "metadata": {},
   "source": [
    "These geographic designations were created to define geographic areas within San Francisco that have a higher density of vulnerable populations. These geographic designations will be used for the Health Care Services Master Plan and DPH's Community Health Needs Assessment.\n",
    "\n",
    "Source: https://data.sfgov.org/Geographic-Locations-and-Boundaries/Areas-of-Vulnerability-2016/kc4r-y88d"
   ]
  },
  {
   "cell_type": "code",
   "execution_count": null,
   "metadata": {},
   "outputs": [],
   "source": []
  }
 ],
 "metadata": {
  "kernelspec": {
   "display_name": "Python 3",
   "language": "python",
   "name": "python3"
  },
  "language_info": {
   "codemirror_mode": {
    "name": "ipython",
    "version": 3
   },
   "file_extension": ".py",
   "mimetype": "text/x-python",
   "name": "python",
   "nbconvert_exporter": "python",
   "pygments_lexer": "ipython3",
   "version": "3.7.4"
  }
 },
 "nbformat": 4,
 "nbformat_minor": 2
}
