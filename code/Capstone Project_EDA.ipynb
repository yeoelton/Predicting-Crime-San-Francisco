{
 "cells": [
  {
   "cell_type": "markdown",
   "metadata": {},
   "source": [
    "### Capstone Project: Reducing Crime in San Francisco\n",
    "\n",
    "by Elton Yeo, DSI13"
   ]
  },
  {
   "cell_type": "markdown",
   "metadata": {},
   "source": [
    "#### Problem Statement and Context\n",
    "\n",
    "Police departments have limited policy and frontline resources, and need to prioritise areas to focus their efforts to reduce crime, through greater prevention and/or deterrence. \n",
    "\n",
    "This project will analyse crime data for San Francisco city to: \n",
    "- develop insights into the areas with the most crimes, and consider policy and operational measures which might help to bring down crime in those areas based on those insights\n",
    "- (understand which variables would result in the lowest number of crimes in an area?)\n",
    "- predict the number and types of crime given a specific date, day of the week, and hour, which will help the police plan their patrol schedules and resources (Police patrols are important because they project presence, which can deter criminals and increase the sense of safety for residents) \n",
    "\n",
    "For the prediction, the data will be run through 3 regression models: linear regression, random forest, and XGBoost. \n",
    "\n",
    "The models will be trained on 2018 data, and tested on 2019 data, and evaluated by their r-sqaured scores. Success is defined as a r-sqaured score of 0.8 and above, which means that the model explains 80% or more of the variability of the target data that is predictable from the independent variables.\n",
    "\n",
    "#### Risks and Assumptions of Data\n",
    "\n",
    "The data may have been recorded in a manner that is useful for frontline officers or operators, thus impeding data cleaing and our understanding of the data. \n",
    "\n",
    "We assume that the data was recorded/provided accurately by the frontline officers or the citizens who had reported the crimes. \n",
    "\n",
    "Data source: https://data.sfgov.org/Public-Safety/Police-Department-Incident-Reports-2018-to-Present/wg3w-h783"
   ]
  },
  {
   "cell_type": "markdown",
   "metadata": {},
   "source": [
    "#### Contents:\n",
    "- [Data Cleaning](#Data-Cleaning)\n",
    "- [Feature Engineering](#Feature-Engineering)\n",
    "- [Data Dictionary](#Data-Dictionary)\n",
    "- [Exploratory Data Analysis](#Exploratory-Data-Analysis)\n",
    "- [Modelling](#Modelling)\n",
    "- [Conclusion and Recommendations](#Conclusion-and-Recommendations)"
   ]
  },
  {
   "cell_type": "code",
   "execution_count": 90,
   "metadata": {},
   "outputs": [],
   "source": [
    "import pandas as pd\n",
    "import numpy as np\n",
    "import seaborn as sns\n",
    "import matplotlib.pyplot as plt\n",
    "\n",
    "import geopandas\n",
    "from shapely.geometry import Point\n",
    "from pygeocoder import Geocoder\n",
    "\n",
    "%matplotlib inline"
   ]
  },
  {
   "cell_type": "markdown",
   "metadata": {},
   "source": [
    "### Data Cleaning"
   ]
  },
  {
   "cell_type": "code",
   "execution_count": 91,
   "metadata": {
    "scrolled": true
   },
   "outputs": [],
   "source": [
    "reports=pd.read_csv('../data/reports.csv')"
   ]
  },
  {
   "cell_type": "code",
   "execution_count": 92,
   "metadata": {},
   "outputs": [],
   "source": [
    "#standardising column names, replacing the spaces with underscores\n",
    "#...and converting all letters to lowercase \n",
    "reports.columns = reports.columns.str.replace(' ', '_').str.lower()"
   ]
  },
  {
   "cell_type": "code",
   "execution_count": 93,
   "metadata": {
    "scrolled": false
   },
   "outputs": [
    {
     "name": "stdout",
     "output_type": "stream",
     "text": [
      "<class 'pandas.core.frame.DataFrame'>\n",
      "RangeIndex: 329469 entries, 0 to 329468\n",
      "Data columns (total 36 columns):\n",
      " #   Column                                                Non-Null Count   Dtype  \n",
      "---  ------                                                --------------   -----  \n",
      " 0   incident_datetime                                     329469 non-null  object \n",
      " 1   incident_date                                         329469 non-null  object \n",
      " 2   incident_time                                         329469 non-null  object \n",
      " 3   incident_year                                         329469 non-null  int64  \n",
      " 4   incident_day_of_week                                  329469 non-null  object \n",
      " 5   report_datetime                                       329469 non-null  object \n",
      " 6   row_id                                                329469 non-null  int64  \n",
      " 7   incident_id                                           329469 non-null  int64  \n",
      " 8   incident_number                                       329469 non-null  int64  \n",
      " 9   cad_number                                            252829 non-null  float64\n",
      " 10  report_type_code                                      329469 non-null  object \n",
      " 11  report_type_description                               329469 non-null  object \n",
      " 12  filed_online                                          71410 non-null   object \n",
      " 13  incident_code                                         329469 non-null  int64  \n",
      " 14  incident_category                                     329438 non-null  object \n",
      " 15  incident_subcategory                                  329438 non-null  object \n",
      " 16  incident_description                                  329469 non-null  object \n",
      " 17  resolution                                            329469 non-null  object \n",
      " 18  intersection                                          311801 non-null  object \n",
      " 19  cnn                                                   311801 non-null  float64\n",
      " 20  police_district                                       329469 non-null  object \n",
      " 21  analysis_neighborhood                                 311736 non-null  object \n",
      " 22  supervisor_district                                   311801 non-null  float64\n",
      " 23  latitude                                              311801 non-null  float64\n",
      " 24  longitude                                             311801 non-null  float64\n",
      " 25  point                                                 311801 non-null  object \n",
      " 26  sf_find_neighborhoods                                 305133 non-null  float64\n",
      " 27  current_police_districts                              311327 non-null  float64\n",
      " 28  current_supervisor_districts                          311740 non-null  float64\n",
      " 29  analysis_neighborhoods                                311675 non-null  float64\n",
      " 30  hsoc_zones_as_of_2018-06-05                           73319 non-null   float64\n",
      " 31  owed_public_spaces                                    16686 non-null   float64\n",
      " 32  central_market/tenderloin_boundary_polygon_-_updated  43701 non-null   float64\n",
      " 33  parks_alliance_cpsi_(27+tl_sites)                     4082 non-null    float64\n",
      " 34  esncag_-_boundary_file                                3641 non-null    float64\n",
      " 35  areas_of_vulnerability,_2016                          311675 non-null  float64\n",
      "dtypes: float64(15), int64(5), object(16)\n",
      "memory usage: 90.5+ MB\n"
     ]
    }
   ],
   "source": [
    "reports.info()"
   ]
  },
  {
   "cell_type": "markdown",
   "metadata": {},
   "source": [
    "We will remove the following variables:\n",
    "- incident_datetime: since it repeats information found in incident_date and incident_time\n",
    "- report_datetime: since this is not critical to the occurrence of the crime incident, and is only an administrative record of when the report of the incident was filed\n",
    "- row_id: this is an identifier unique to the dataset; we do not need it since we have the index\n",
    "- incident_id: this is an adminstrative number to keep track of the incidents, and is not critical to the occurrence of the crime incident\n",
    "- incident_number: this is also an adminstrative number to keep track of incidents, and is not critical to the occurrence of the crime incident\n",
    "- cad_number: this is an adminstrative number issued by the Dept of Emergency Management and is tagged to the incident_number; it is not critical to the occurrence of the crime incident\n",
    "- report_type_code: this is a label for the report_type_description, and is not necessary\n",
    "- incident_code: this is a label for incident_category, and is not necessary\n",
    "- incident_subcategory: such level of detail is not necesary for the model\n",
    "- incident_description: such level of detail is not necessary for the model\n",
    "- intersection: this is the 2 or more street names that intersect closest to the original incident; it is not necessary since we will be using the longitude and latitude for the precise locations\n",
    "- cnn: unique identifier of the intersection which can be removed\n",
    "- point: point geometry used for mapping features in the open data portal platform which can be removed\n",
    "- central_market/tenderloin_boundary_polygon_-_updated: used to indicate whether the incident took place within the boundaries of the tenderlion neighborhood or not; not necessary since we this repeats the other neighborhood data which we have\n",
    "- esncag_-_boundary_file: marks whether the crime took place within the Embarcadero SAFE Navigation Center (ESNCAG) or not; can be dropped because the mode is very high which means it has less variance and will have little impact on the model\n",
    "- sf_find_neighborhoods: refer to Neighborhood boundaries that were defined in 2006 by the Mayor's Office of Neighborhood Services for use with the SF Find tool; not necessary because analysis_neighborhood already tells us the neighborhood the incident took place in.\n",
    "- analysis_neighborhoods: these are numbers which correspond to the neighborhood name found in the closely-named 'analysis_neighborhood' variable\n",
    "- current_police_districts: these are numbers which correspond to the district name found in the 'police_district' variable\n",
    "- supervisor_district: information is superseded by 'current_supervisor_districts'variable\n",
    "- filed_online: indicates whether report was filed online or not; not necessary because information is already captured in 'report_type_description' variable\n",
    "\n",
    "Sources: \n",
    "- https://data.sfgov.org/Public-Safety/Police-Department-Incident-Reports-2018-to-Present/wg3w-h783\n",
    "- https://data.sfgov.org/dataset/ESNCAG-Boundary-File/8cs3-kxq7\n",
    "- https://support.datasf.org/help/police-department-incident-reports-2018-to-present-overview"
   ]
  },
  {
   "cell_type": "code",
   "execution_count": 94,
   "metadata": {},
   "outputs": [],
   "source": [
    "reports.drop(columns=['incident_datetime', 'report_datetime', 'row_id', \n",
    "                      'incident_id', 'incident_number', 'cad_number', \n",
    "                      'report_type_code', 'incident_code', 'incident_subcategory', \n",
    "                      'incident_description', 'intersection', 'cnn', 'point',\n",
    "                     'central_market/tenderloin_boundary_polygon_-_updated',\n",
    "                     'esncag_-_boundary_file', 'sf_find_neighborhoods', \n",
    "                     'analysis_neighborhoods', 'current_police_districts',\n",
    "                     'supervisor_district', 'filed_online'], inplace=True)"
   ]
  },
  {
   "cell_type": "code",
   "execution_count": 95,
   "metadata": {},
   "outputs": [
    {
     "name": "stdout",
     "output_type": "stream",
     "text": [
      "<class 'pandas.core.frame.DataFrame'>\n",
      "RangeIndex: 329469 entries, 0 to 329468\n",
      "Data columns (total 16 columns):\n",
      " #   Column                             Non-Null Count   Dtype  \n",
      "---  ------                             --------------   -----  \n",
      " 0   incident_date                      329469 non-null  object \n",
      " 1   incident_time                      329469 non-null  object \n",
      " 2   incident_year                      329469 non-null  int64  \n",
      " 3   incident_day_of_week               329469 non-null  object \n",
      " 4   report_type_description            329469 non-null  object \n",
      " 5   incident_category                  329438 non-null  object \n",
      " 6   resolution                         329469 non-null  object \n",
      " 7   police_district                    329469 non-null  object \n",
      " 8   analysis_neighborhood              311736 non-null  object \n",
      " 9   latitude                           311801 non-null  float64\n",
      " 10  longitude                          311801 non-null  float64\n",
      " 11  current_supervisor_districts       311740 non-null  float64\n",
      " 12  hsoc_zones_as_of_2018-06-05        73319 non-null   float64\n",
      " 13  owed_public_spaces                 16686 non-null   float64\n",
      " 14  parks_alliance_cpsi_(27+tl_sites)  4082 non-null    float64\n",
      " 15  areas_of_vulnerability,_2016       311675 non-null  float64\n",
      "dtypes: float64(7), int64(1), object(8)\n",
      "memory usage: 40.2+ MB\n"
     ]
    }
   ],
   "source": [
    "reports.info()"
   ]
  },
  {
   "cell_type": "code",
   "execution_count": 96,
   "metadata": {
    "scrolled": true
   },
   "outputs": [
    {
     "data": {
      "text/html": [
       "<div>\n",
       "<style scoped>\n",
       "    .dataframe tbody tr th:only-of-type {\n",
       "        vertical-align: middle;\n",
       "    }\n",
       "\n",
       "    .dataframe tbody tr th {\n",
       "        vertical-align: top;\n",
       "    }\n",
       "\n",
       "    .dataframe thead th {\n",
       "        text-align: right;\n",
       "    }\n",
       "</style>\n",
       "<table border=\"1\" class=\"dataframe\">\n",
       "  <thead>\n",
       "    <tr style=\"text-align: right;\">\n",
       "      <th></th>\n",
       "      <th>incident_date</th>\n",
       "      <th>incident_time</th>\n",
       "      <th>incident_year</th>\n",
       "      <th>incident_day_of_week</th>\n",
       "      <th>report_type_description</th>\n",
       "      <th>incident_category</th>\n",
       "      <th>resolution</th>\n",
       "      <th>police_district</th>\n",
       "      <th>analysis_neighborhood</th>\n",
       "      <th>latitude</th>\n",
       "      <th>longitude</th>\n",
       "      <th>current_supervisor_districts</th>\n",
       "      <th>hsoc_zones_as_of_2018-06-05</th>\n",
       "      <th>owed_public_spaces</th>\n",
       "      <th>parks_alliance_cpsi_(27+tl_sites)</th>\n",
       "      <th>areas_of_vulnerability,_2016</th>\n",
       "    </tr>\n",
       "  </thead>\n",
       "  <tbody>\n",
       "    <tr>\n",
       "      <th>0</th>\n",
       "      <td>2019/05/01</td>\n",
       "      <td>01:00</td>\n",
       "      <td>2019</td>\n",
       "      <td>Wednesday</td>\n",
       "      <td>Initial</td>\n",
       "      <td>Offences Against The Family And Children</td>\n",
       "      <td>Open or Active</td>\n",
       "      <td>Taraval</td>\n",
       "      <td>Sunset/Parkside</td>\n",
       "      <td>37.762569</td>\n",
       "      <td>-122.499627</td>\n",
       "      <td>7.0</td>\n",
       "      <td>NaN</td>\n",
       "      <td>NaN</td>\n",
       "      <td>NaN</td>\n",
       "      <td>1.0</td>\n",
       "    </tr>\n",
       "    <tr>\n",
       "      <th>1</th>\n",
       "      <td>2019/06/22</td>\n",
       "      <td>07:45</td>\n",
       "      <td>2019</td>\n",
       "      <td>Saturday</td>\n",
       "      <td>Initial</td>\n",
       "      <td>Non-Criminal</td>\n",
       "      <td>Open or Active</td>\n",
       "      <td>Southern</td>\n",
       "      <td>South of Market</td>\n",
       "      <td>37.780535</td>\n",
       "      <td>-122.408161</td>\n",
       "      <td>10.0</td>\n",
       "      <td>1.0</td>\n",
       "      <td>NaN</td>\n",
       "      <td>NaN</td>\n",
       "      <td>2.0</td>\n",
       "    </tr>\n",
       "    <tr>\n",
       "      <th>2</th>\n",
       "      <td>2019/06/03</td>\n",
       "      <td>16:16</td>\n",
       "      <td>2019</td>\n",
       "      <td>Monday</td>\n",
       "      <td>Initial Supplement</td>\n",
       "      <td>Missing Person</td>\n",
       "      <td>Open or Active</td>\n",
       "      <td>Bayview</td>\n",
       "      <td>Bayview Hunters Point</td>\n",
       "      <td>37.721600</td>\n",
       "      <td>-122.390745</td>\n",
       "      <td>9.0</td>\n",
       "      <td>NaN</td>\n",
       "      <td>NaN</td>\n",
       "      <td>NaN</td>\n",
       "      <td>2.0</td>\n",
       "    </tr>\n",
       "    <tr>\n",
       "      <th>3</th>\n",
       "      <td>2018/11/16</td>\n",
       "      <td>16:34</td>\n",
       "      <td>2018</td>\n",
       "      <td>Friday</td>\n",
       "      <td>Initial Supplement</td>\n",
       "      <td>Offences Against The Family And Children</td>\n",
       "      <td>Cite or Arrest Adult</td>\n",
       "      <td>Central</td>\n",
       "      <td>Chinatown</td>\n",
       "      <td>37.794860</td>\n",
       "      <td>-122.404876</td>\n",
       "      <td>3.0</td>\n",
       "      <td>NaN</td>\n",
       "      <td>18.0</td>\n",
       "      <td>NaN</td>\n",
       "      <td>2.0</td>\n",
       "    </tr>\n",
       "    <tr>\n",
       "      <th>4</th>\n",
       "      <td>2019/05/27</td>\n",
       "      <td>02:25</td>\n",
       "      <td>2019</td>\n",
       "      <td>Monday</td>\n",
       "      <td>Initial</td>\n",
       "      <td>Assault</td>\n",
       "      <td>Open or Active</td>\n",
       "      <td>Northern</td>\n",
       "      <td>Marina</td>\n",
       "      <td>37.797716</td>\n",
       "      <td>-122.430559</td>\n",
       "      <td>6.0</td>\n",
       "      <td>NaN</td>\n",
       "      <td>NaN</td>\n",
       "      <td>NaN</td>\n",
       "      <td>1.0</td>\n",
       "    </tr>\n",
       "  </tbody>\n",
       "</table>\n",
       "</div>"
      ],
      "text/plain": [
       "  incident_date incident_time  incident_year incident_day_of_week  \\\n",
       "0    2019/05/01         01:00           2019            Wednesday   \n",
       "1    2019/06/22         07:45           2019             Saturday   \n",
       "2    2019/06/03         16:16           2019               Monday   \n",
       "3    2018/11/16         16:34           2018               Friday   \n",
       "4    2019/05/27         02:25           2019               Monday   \n",
       "\n",
       "  report_type_description                         incident_category  \\\n",
       "0                 Initial  Offences Against The Family And Children   \n",
       "1                 Initial                              Non-Criminal   \n",
       "2      Initial Supplement                            Missing Person   \n",
       "3      Initial Supplement  Offences Against The Family And Children   \n",
       "4                 Initial                                   Assault   \n",
       "\n",
       "             resolution police_district  analysis_neighborhood   latitude  \\\n",
       "0        Open or Active         Taraval        Sunset/Parkside  37.762569   \n",
       "1        Open or Active        Southern        South of Market  37.780535   \n",
       "2        Open or Active         Bayview  Bayview Hunters Point  37.721600   \n",
       "3  Cite or Arrest Adult         Central              Chinatown  37.794860   \n",
       "4        Open or Active        Northern                 Marina  37.797716   \n",
       "\n",
       "    longitude  current_supervisor_districts  hsoc_zones_as_of_2018-06-05  \\\n",
       "0 -122.499627                           7.0                          NaN   \n",
       "1 -122.408161                          10.0                          1.0   \n",
       "2 -122.390745                           9.0                          NaN   \n",
       "3 -122.404876                           3.0                          NaN   \n",
       "4 -122.430559                           6.0                          NaN   \n",
       "\n",
       "   owed_public_spaces  parks_alliance_cpsi_(27+tl_sites)  \\\n",
       "0                 NaN                                NaN   \n",
       "1                 NaN                                NaN   \n",
       "2                 NaN                                NaN   \n",
       "3                18.0                                NaN   \n",
       "4                 NaN                                NaN   \n",
       "\n",
       "   areas_of_vulnerability,_2016  \n",
       "0                           1.0  \n",
       "1                           2.0  \n",
       "2                           2.0  \n",
       "3                           2.0  \n",
       "4                           1.0  "
      ]
     },
     "execution_count": 96,
     "metadata": {},
     "output_type": "execute_result"
    }
   ],
   "source": [
    "reports.head()"
   ]
  },
  {
   "cell_type": "code",
   "execution_count": 97,
   "metadata": {
    "scrolled": true
   },
   "outputs": [
    {
     "data": {
      "text/plain": [
       "incident_date                             0\n",
       "incident_time                             0\n",
       "incident_year                             0\n",
       "incident_day_of_week                      0\n",
       "report_type_description                   0\n",
       "incident_category                        31\n",
       "resolution                                0\n",
       "police_district                           0\n",
       "analysis_neighborhood                 17733\n",
       "latitude                              17668\n",
       "longitude                             17668\n",
       "current_supervisor_districts          17729\n",
       "hsoc_zones_as_of_2018-06-05          256150\n",
       "owed_public_spaces                   312783\n",
       "parks_alliance_cpsi_(27+tl_sites)    325387\n",
       "areas_of_vulnerability,_2016          17794\n",
       "dtype: int64"
      ]
     },
     "execution_count": 97,
     "metadata": {},
     "output_type": "execute_result"
    }
   ],
   "source": [
    "reports.isnull().sum()"
   ]
  },
  {
   "cell_type": "markdown",
   "metadata": {},
   "source": [
    "#### Imputing null values: 'incident_category'\n",
    "\n",
    "For 'incident_category', there is a small amount of null values which do not identify the type of incident it was. We will include these under 'Other'."
   ]
  },
  {
   "cell_type": "code",
   "execution_count": 98,
   "metadata": {
    "scrolled": true
   },
   "outputs": [
    {
     "data": {
      "text/html": [
       "<div>\n",
       "<style scoped>\n",
       "    .dataframe tbody tr th:only-of-type {\n",
       "        vertical-align: middle;\n",
       "    }\n",
       "\n",
       "    .dataframe tbody tr th {\n",
       "        vertical-align: top;\n",
       "    }\n",
       "\n",
       "    .dataframe thead th {\n",
       "        text-align: right;\n",
       "    }\n",
       "</style>\n",
       "<table border=\"1\" class=\"dataframe\">\n",
       "  <thead>\n",
       "    <tr style=\"text-align: right;\">\n",
       "      <th></th>\n",
       "      <th>incident_category</th>\n",
       "    </tr>\n",
       "  </thead>\n",
       "  <tbody>\n",
       "    <tr>\n",
       "      <th>7938</th>\n",
       "      <td>NaN</td>\n",
       "    </tr>\n",
       "    <tr>\n",
       "      <th>8536</th>\n",
       "      <td>NaN</td>\n",
       "    </tr>\n",
       "    <tr>\n",
       "      <th>8597</th>\n",
       "      <td>NaN</td>\n",
       "    </tr>\n",
       "    <tr>\n",
       "      <th>8689</th>\n",
       "      <td>NaN</td>\n",
       "    </tr>\n",
       "    <tr>\n",
       "      <th>8758</th>\n",
       "      <td>NaN</td>\n",
       "    </tr>\n",
       "    <tr>\n",
       "      <th>11274</th>\n",
       "      <td>NaN</td>\n",
       "    </tr>\n",
       "    <tr>\n",
       "      <th>11291</th>\n",
       "      <td>NaN</td>\n",
       "    </tr>\n",
       "    <tr>\n",
       "      <th>11416</th>\n",
       "      <td>NaN</td>\n",
       "    </tr>\n",
       "    <tr>\n",
       "      <th>12873</th>\n",
       "      <td>NaN</td>\n",
       "    </tr>\n",
       "    <tr>\n",
       "      <th>14377</th>\n",
       "      <td>NaN</td>\n",
       "    </tr>\n",
       "    <tr>\n",
       "      <th>16658</th>\n",
       "      <td>NaN</td>\n",
       "    </tr>\n",
       "    <tr>\n",
       "      <th>17683</th>\n",
       "      <td>NaN</td>\n",
       "    </tr>\n",
       "    <tr>\n",
       "      <th>58787</th>\n",
       "      <td>NaN</td>\n",
       "    </tr>\n",
       "    <tr>\n",
       "      <th>65691</th>\n",
       "      <td>NaN</td>\n",
       "    </tr>\n",
       "    <tr>\n",
       "      <th>104967</th>\n",
       "      <td>NaN</td>\n",
       "    </tr>\n",
       "    <tr>\n",
       "      <th>105657</th>\n",
       "      <td>NaN</td>\n",
       "    </tr>\n",
       "    <tr>\n",
       "      <th>114672</th>\n",
       "      <td>NaN</td>\n",
       "    </tr>\n",
       "    <tr>\n",
       "      <th>122577</th>\n",
       "      <td>NaN</td>\n",
       "    </tr>\n",
       "    <tr>\n",
       "      <th>123431</th>\n",
       "      <td>NaN</td>\n",
       "    </tr>\n",
       "    <tr>\n",
       "      <th>140020</th>\n",
       "      <td>NaN</td>\n",
       "    </tr>\n",
       "    <tr>\n",
       "      <th>156406</th>\n",
       "      <td>NaN</td>\n",
       "    </tr>\n",
       "    <tr>\n",
       "      <th>162155</th>\n",
       "      <td>NaN</td>\n",
       "    </tr>\n",
       "    <tr>\n",
       "      <th>174199</th>\n",
       "      <td>NaN</td>\n",
       "    </tr>\n",
       "    <tr>\n",
       "      <th>206800</th>\n",
       "      <td>NaN</td>\n",
       "    </tr>\n",
       "    <tr>\n",
       "      <th>219804</th>\n",
       "      <td>NaN</td>\n",
       "    </tr>\n",
       "    <tr>\n",
       "      <th>247270</th>\n",
       "      <td>NaN</td>\n",
       "    </tr>\n",
       "    <tr>\n",
       "      <th>255649</th>\n",
       "      <td>NaN</td>\n",
       "    </tr>\n",
       "    <tr>\n",
       "      <th>268727</th>\n",
       "      <td>NaN</td>\n",
       "    </tr>\n",
       "    <tr>\n",
       "      <th>272950</th>\n",
       "      <td>NaN</td>\n",
       "    </tr>\n",
       "    <tr>\n",
       "      <th>306016</th>\n",
       "      <td>NaN</td>\n",
       "    </tr>\n",
       "    <tr>\n",
       "      <th>316655</th>\n",
       "      <td>NaN</td>\n",
       "    </tr>\n",
       "  </tbody>\n",
       "</table>\n",
       "</div>"
      ],
      "text/plain": [
       "       incident_category\n",
       "7938                 NaN\n",
       "8536                 NaN\n",
       "8597                 NaN\n",
       "8689                 NaN\n",
       "8758                 NaN\n",
       "11274                NaN\n",
       "11291                NaN\n",
       "11416                NaN\n",
       "12873                NaN\n",
       "14377                NaN\n",
       "16658                NaN\n",
       "17683                NaN\n",
       "58787                NaN\n",
       "65691                NaN\n",
       "104967               NaN\n",
       "105657               NaN\n",
       "114672               NaN\n",
       "122577               NaN\n",
       "123431               NaN\n",
       "140020               NaN\n",
       "156406               NaN\n",
       "162155               NaN\n",
       "174199               NaN\n",
       "206800               NaN\n",
       "219804               NaN\n",
       "247270               NaN\n",
       "255649               NaN\n",
       "268727               NaN\n",
       "272950               NaN\n",
       "306016               NaN\n",
       "316655               NaN"
      ]
     },
     "execution_count": 98,
     "metadata": {},
     "output_type": "execute_result"
    }
   ],
   "source": [
    "reports[['incident_category']][reports.incident_category.isnull()]"
   ]
  },
  {
   "cell_type": "code",
   "execution_count": 99,
   "metadata": {
    "scrolled": true
   },
   "outputs": [],
   "source": [
    "reports.incident_category.fillna('Other', inplace=True)"
   ]
  },
  {
   "cell_type": "code",
   "execution_count": 100,
   "metadata": {
    "scrolled": true
   },
   "outputs": [
    {
     "data": {
      "text/plain": [
       "Larceny Theft                                   106253\n",
       "Other Miscellaneous                              24506\n",
       "Non-Criminal                                     20373\n",
       "Malicious Mischief                               19600\n",
       "Assault                                          19500\n",
       "Burglary                                         14315\n",
       "Warrant                                          12063\n",
       "Lost Property                                    12042\n",
       "Motor Vehicle Theft                              11768\n",
       "Fraud                                             9784\n",
       "Recovered Vehicle                                 9526\n",
       "Drug Offense                                      8473\n",
       "Robbery                                           7825\n",
       "Missing Person                                    7521\n",
       "Offences Against The Family And Children          6339\n",
       "Suspicious Occ                                    6125\n",
       "Disorderly Conduct                                5816\n",
       "Traffic Violation Arrest                          4269\n",
       "Miscellaneous Investigation                       2892\n",
       "Other Offenses                                    2558\n",
       "Other                                             2191\n",
       "Weapons Carrying Etc                              1764\n",
       "Weapons Offense                                   1720\n",
       "Stolen Property                                   1674\n",
       "Case Closure                                      1431\n",
       "Forgery And Counterfeiting                        1414\n",
       "Courtesy Report                                    999\n",
       "Sex Offense                                        951\n",
       "Civil Sidewalks                                    857\n",
       "Prostitution                                       802\n",
       "Arson                                              741\n",
       "Traffic Collision                                  626\n",
       "Embezzlement                                       449\n",
       "Family Offense                                     425\n",
       "Vandalism                                          418\n",
       "Fire Report                                        329\n",
       "Vehicle Impounded                                  249\n",
       "Vehicle Misplaced                                  154\n",
       "Suicide                                            148\n",
       "Drug Violation                                     115\n",
       "Human Trafficking (A), Commercial Sex Acts         102\n",
       "Rape                                                89\n",
       "Liquor Laws                                         73\n",
       "Suspicious                                          61\n",
       "Motor Vehicle Theft?                                47\n",
       "Homicide                                            41\n",
       "Gambling                                            20\n",
       "Weapons Offence                                     15\n",
       "Human Trafficking, Commercial Sex Acts              14\n",
       "Human Trafficking (B), Involuntary Servitude         1\n",
       "Juvenile Offenses                                    1\n",
       "Name: incident_category, dtype: int64"
      ]
     },
     "execution_count": 100,
     "metadata": {},
     "output_type": "execute_result"
    }
   ],
   "source": [
    "reports.incident_category.value_counts()"
   ]
  },
  {
   "cell_type": "markdown",
   "metadata": {},
   "source": [
    "#### Imputing null values: 'analysis_neighborhood'"
   ]
  },
  {
   "cell_type": "code",
   "execution_count": 101,
   "metadata": {
    "scrolled": true
   },
   "outputs": [
    {
     "data": {
      "text/plain": [
       "Mission                           36113\n",
       "Tenderloin                        32454\n",
       "Financial District/South Beach    29433\n",
       "South of Market                   27209\n",
       "Bayview Hunters Point             18057\n",
       "Western Addition                  10317\n",
       "North Beach                       10018\n",
       "Castro/Upper Market                9439\n",
       "Sunset/Parkside                    9071\n",
       "Nob Hill                           8951\n",
       "Hayes Valley                       8506\n",
       "Marina                             7490\n",
       "Russian Hill                       7165\n",
       "Outer Richmond                     6859\n",
       "Chinatown                          6302\n",
       "West of Twin Peaks                 6197\n",
       "Bernal Heights                     5402\n",
       "Mission Bay                        5332\n",
       "Haight Ashbury                     5268\n",
       "Pacific Heights                    5121\n",
       "Potrero Hill                       4963\n",
       "Excelsior                          4925\n",
       "Outer Mission                      4235\n",
       "Inner Richmond                     4131\n",
       "Lone Mountain/USF                  3791\n",
       "Lakeshore                          3768\n",
       "Inner Sunset                       3706\n",
       "Visitacion Valley                  3455\n",
       "Portola                            3432\n",
       "Golden Gate Park                   3412\n",
       "Japantown                          3388\n",
       "Oceanview/Merced/Ingleside         3190\n",
       "Noe Valley                         2871\n",
       "Presidio Heights                   1802\n",
       "Twin Peaks                         1591\n",
       "Glen Park                          1560\n",
       "Treasure Island                    1001\n",
       "Presidio                            755\n",
       "Lincoln Park                        399\n",
       "Seacliff                            347\n",
       "McLaren Park                        310\n",
       "Name: analysis_neighborhood, dtype: int64"
      ]
     },
     "execution_count": 101,
     "metadata": {},
     "output_type": "execute_result"
    }
   ],
   "source": [
    "reports.analysis_neighborhood.value_counts()"
   ]
  },
  {
   "cell_type": "markdown",
   "metadata": {},
   "source": [
    "The Department of Public Health and the Mayor’s Office of Housing and Community Development, with support from the Planning Department, created these 41 neighborhoods by grouping 2010 Census tracts, using common real estate and residents’ definitions for the purpose of providing consistency in the analysis and reporting of socio-economic, demographic, and environmental data, and data on City-funded programs and services.\n",
    "\n",
    "Source: https://data.sfgov.org/Geographic-Locations-and-Boundaries/Analysis-Neighborhoods/p5b7-5n3h\n",
    "\n",
    "For the null values in 'analysis_neighborhood', we will impute 'unknown' to show that the neighborhood/address was not known. "
   ]
  },
  {
   "cell_type": "code",
   "execution_count": 102,
   "metadata": {
    "scrolled": true
   },
   "outputs": [
    {
     "data": {
      "text/plain": [
       "Mission                           36113\n",
       "Tenderloin                        32454\n",
       "Financial District/South Beach    29433\n",
       "South of Market                   27209\n",
       "Bayview Hunters Point             18057\n",
       "unknown                           17733\n",
       "Western Addition                  10317\n",
       "North Beach                       10018\n",
       "Castro/Upper Market                9439\n",
       "Sunset/Parkside                    9071\n",
       "Nob Hill                           8951\n",
       "Hayes Valley                       8506\n",
       "Marina                             7490\n",
       "Russian Hill                       7165\n",
       "Outer Richmond                     6859\n",
       "Chinatown                          6302\n",
       "West of Twin Peaks                 6197\n",
       "Bernal Heights                     5402\n",
       "Mission Bay                        5332\n",
       "Haight Ashbury                     5268\n",
       "Pacific Heights                    5121\n",
       "Potrero Hill                       4963\n",
       "Excelsior                          4925\n",
       "Outer Mission                      4235\n",
       "Inner Richmond                     4131\n",
       "Lone Mountain/USF                  3791\n",
       "Lakeshore                          3768\n",
       "Inner Sunset                       3706\n",
       "Visitacion Valley                  3455\n",
       "Portola                            3432\n",
       "Golden Gate Park                   3412\n",
       "Japantown                          3388\n",
       "Oceanview/Merced/Ingleside         3190\n",
       "Noe Valley                         2871\n",
       "Presidio Heights                   1802\n",
       "Twin Peaks                         1591\n",
       "Glen Park                          1560\n",
       "Treasure Island                    1001\n",
       "Presidio                            755\n",
       "Lincoln Park                        399\n",
       "Seacliff                            347\n",
       "McLaren Park                        310\n",
       "Name: analysis_neighborhood, dtype: int64"
      ]
     },
     "execution_count": 102,
     "metadata": {},
     "output_type": "execute_result"
    }
   ],
   "source": [
    "reports.analysis_neighborhood.fillna('unknown', inplace=True)\n",
    "\n",
    "reports.analysis_neighborhood.value_counts()"
   ]
  },
  {
   "cell_type": "code",
   "execution_count": 103,
   "metadata": {},
   "outputs": [
    {
     "data": {
      "text/plain": [
       "0"
      ]
     },
     "execution_count": 103,
     "metadata": {},
     "output_type": "execute_result"
    }
   ],
   "source": [
    "reports.analysis_neighborhood.isnull().sum()"
   ]
  },
  {
   "cell_type": "markdown",
   "metadata": {},
   "source": [
    "#### Imputing null values: 'latitude' and 'longitude'\n",
    "\n",
    "The latitude and longitude are important for us to pinpoint the zipcode later, which will be fed into our model. Therefore, where there are missing 'latitude' and longitude', we will delete these rows. "
   ]
  },
  {
   "cell_type": "code",
   "execution_count": 104,
   "metadata": {
    "scrolled": true
   },
   "outputs": [
    {
     "data": {
      "text/plain": [
       "longitude    17668\n",
       "latitude     17668\n",
       "dtype: int64"
      ]
     },
     "execution_count": 104,
     "metadata": {},
     "output_type": "execute_result"
    }
   ],
   "source": [
    "reports[['longitude', 'latitude']].isnull().sum()"
   ]
  },
  {
   "cell_type": "code",
   "execution_count": 105,
   "metadata": {
    "scrolled": true
   },
   "outputs": [],
   "source": [
    "reports.dropna(subset=['longitude', 'latitude'], inplace=True)"
   ]
  },
  {
   "cell_type": "code",
   "execution_count": 106,
   "metadata": {
    "scrolled": true
   },
   "outputs": [
    {
     "data": {
      "text/plain": [
       "longitude    0\n",
       "latitude     0\n",
       "dtype: int64"
      ]
     },
     "execution_count": 106,
     "metadata": {},
     "output_type": "execute_result"
    }
   ],
   "source": [
    "reports[['longitude', 'latitude']].isnull().sum()"
   ]
  },
  {
   "cell_type": "markdown",
   "metadata": {},
   "source": [
    "#### Imputing null values: 'hsoc_zones'"
   ]
  },
  {
   "cell_type": "code",
   "execution_count": 107,
   "metadata": {},
   "outputs": [],
   "source": [
    "#renaming 'hsoc_zones_as_of_2018-06-05' to 'hsoc_zones' for easier handling\n",
    "\n",
    "reports.rename(columns={'hsoc_zones_as_of_2018-06-05': 'hsoc_zones'}, inplace=True)"
   ]
  },
  {
   "cell_type": "code",
   "execution_count": 108,
   "metadata": {},
   "outputs": [
    {
     "data": {
      "text/plain": [
       "1.0    32334\n",
       "3.0    29266\n",
       "5.0     8872\n",
       "4.0     1574\n",
       "2.0     1273\n",
       "Name: hsoc_zones, dtype: int64"
      ]
     },
     "execution_count": 108,
     "metadata": {},
     "output_type": "execute_result"
    }
   ],
   "source": [
    "reports['hsoc_zones'].value_counts()"
   ]
  },
  {
   "cell_type": "markdown",
   "metadata": {},
   "source": [
    "HSOC refers to \"Healthy Streets Operation Center\", a San Francisco inter-agecy effort (SF Police Dept, Dept of Public Health, SF Public Works etc.) to coordinate the City's response to homelessness.\n",
    "\n",
    "Source: http://hsh.sfgov.org/wp-content/uploads/HSOC-Presentation-for-LHCB-FINAL.pdf\n",
    "\n",
    "We will impute null values with 0.0 to indicate that the incident did not take place within a HSOC zone, for all incidents that took place within a HSOC, we will group them together and label them as 1.0."
   ]
  },
  {
   "cell_type": "code",
   "execution_count": 109,
   "metadata": {},
   "outputs": [
    {
     "data": {
      "text/plain": [
       "0.0    238482\n",
       "1.0     73319\n",
       "Name: hsoc_zones, dtype: int64"
      ]
     },
     "execution_count": 109,
     "metadata": {},
     "output_type": "execute_result"
    }
   ],
   "source": [
    "reports['hsoc_zones'].fillna(0.0, inplace=True)\n",
    "\n",
    "reports['hsoc_zones'].replace({2.0:1.0,\n",
    "                              3.0:1.0,\n",
    "                              4.0:1.0,\n",
    "                              5.0:1.0}, inplace=True)\n",
    "\n",
    "reports['hsoc_zones'].value_counts()"
   ]
  },
  {
   "cell_type": "markdown",
   "metadata": {},
   "source": [
    "#### Imputing null values: 'owed_public_spaces'"
   ]
  },
  {
   "cell_type": "code",
   "execution_count": 110,
   "metadata": {
    "scrolled": true
   },
   "outputs": [
    {
     "data": {
      "text/plain": [
       "35.0    10133\n",
       "50.0     1660\n",
       "39.0      961\n",
       "15.0      940\n",
       "16.0      562\n",
       "18.0      416\n",
       "70.0      399\n",
       "3.0       248\n",
       "31.0      203\n",
       "80.0      190\n",
       "29.0      174\n",
       "7.0       173\n",
       "23.0       95\n",
       "6.0        90\n",
       "14.0       83\n",
       "61.0       80\n",
       "58.0       73\n",
       "17.0       58\n",
       "75.0       55\n",
       "54.0       25\n",
       "8.0        25\n",
       "30.0       20\n",
       "42.0        7\n",
       "71.0        6\n",
       "43.0        5\n",
       "46.0        4\n",
       "79.0        1\n",
       "Name: owed_public_spaces, dtype: int64"
      ]
     },
     "execution_count": 110,
     "metadata": {},
     "output_type": "execute_result"
    }
   ],
   "source": [
    "reports['owed_public_spaces'].value_counts()"
   ]
  },
  {
   "cell_type": "markdown",
   "metadata": {},
   "source": [
    "A list of public spaces being considered for management and activation by Office of Economic & Workforce Development (OEWD).\n",
    "\n",
    "Source: https://data.sfgov.org/Geographic-Locations-and-Boundaries/OWED-Public-Spaces/gkqa-s74m\n",
    "\n",
    "We will impute null values with 0.0 to indicate that the incident did not take place within a designated OEWD public space, for all incidents that took place within such a public space, we will group them together and label them as 1.0."
   ]
  },
  {
   "cell_type": "code",
   "execution_count": 111,
   "metadata": {},
   "outputs": [
    {
     "data": {
      "text/plain": [
       "0.0    295115\n",
       "1.0     16686\n",
       "Name: owed_public_spaces, dtype: int64"
      ]
     },
     "execution_count": 111,
     "metadata": {},
     "output_type": "execute_result"
    }
   ],
   "source": [
    "reports['owed_public_spaces'].fillna(0.0, inplace=True)\n",
    "\n",
    "reports['owed_public_spaces']= [0.0 if i==0.0 else 1.0 for i in reports['owed_public_spaces']]\n",
    "\n",
    "reports['owed_public_spaces'].value_counts()"
   ]
  },
  {
   "cell_type": "markdown",
   "metadata": {},
   "source": [
    "#### Imputing null values: 'parks_alliance'"
   ]
  },
  {
   "cell_type": "code",
   "execution_count": 112,
   "metadata": {},
   "outputs": [],
   "source": [
    "#renaming 'parks_alliance_cpsi_(27+tl_sites)' to 'parks_alliance' for easier handling\n",
    "\n",
    "reports.rename(columns={'parks_alliance_cpsi_(27+tl_sites)': 'parks_alliance'}, inplace=True)"
   ]
  },
  {
   "cell_type": "code",
   "execution_count": 113,
   "metadata": {
    "scrolled": true
   },
   "outputs": [
    {
     "data": {
      "text/plain": [
       "24.0    1660\n",
       "23.0    1246\n",
       "31.0     961\n",
       "1.0      111\n",
       "6.0       47\n",
       "5.0       47\n",
       "3.0       10\n",
       "Name: parks_alliance, dtype: int64"
      ]
     },
     "execution_count": 113,
     "metadata": {},
     "output_type": "execute_result"
    }
   ],
   "source": [
    "reports['parks_alliance'].value_counts()"
   ]
  },
  {
   "cell_type": "markdown",
   "metadata": {},
   "source": [
    "Boundaries of 27 open space sites that are part of the OEWD Citywide Public Space Initiative, plus UN Plaza, Boeddeker Park, TL Recreation Center, and Civic Center Plaza.\n",
    "\n",
    "In this dataset, it marks which of those public spaces the crime had taken place in.\n",
    "\n",
    "Source: https://data.sfgov.org/Geographic-Locations-and-Boundaries/Parks-Alliance-CPSI-27-TL-sites-/qjyb-yy3m\n",
    "\n",
    "We will impute null values with 0.0 to indicate that the incident did not take place within this designated OEWD public space, for all incidents that took place within such a public space, we will group them together and label them as 1.0.\n",
    "\n",
    "Later, we will combine this variable with \"owed_public_spaces\" since they all refer to public spaces. "
   ]
  },
  {
   "cell_type": "code",
   "execution_count": 114,
   "metadata": {
    "scrolled": true
   },
   "outputs": [
    {
     "data": {
      "text/plain": [
       "0.0    307719\n",
       "1.0      4082\n",
       "Name: parks_alliance, dtype: int64"
      ]
     },
     "execution_count": 114,
     "metadata": {},
     "output_type": "execute_result"
    }
   ],
   "source": [
    "reports['parks_alliance'].fillna(0.0, inplace=True)\n",
    "\n",
    "reports['parks_alliance']= [0.0 if i==0.0 else 1.0 for i in reports['parks_alliance']]\n",
    "\n",
    "reports['parks_alliance'].value_counts()"
   ]
  },
  {
   "cell_type": "markdown",
   "metadata": {},
   "source": [
    "#### Combining 'parks_alliance' and 'owed_public_spaces'\n",
    "\n",
    "These two groups of public spaces are managed by Office of Economic & Workforce Development and can be considered together. "
   ]
  },
  {
   "cell_type": "code",
   "execution_count": 115,
   "metadata": {},
   "outputs": [],
   "source": [
    "reports['public_spaces']=reports['parks_alliance']+reports['owed_public_spaces']"
   ]
  },
  {
   "cell_type": "code",
   "execution_count": 116,
   "metadata": {},
   "outputs": [
    {
     "data": {
      "text/plain": [
       "0.0    293758\n",
       "1.0     18043\n",
       "Name: public_spaces, dtype: int64"
      ]
     },
     "execution_count": 116,
     "metadata": {},
     "output_type": "execute_result"
    }
   ],
   "source": [
    "reports['public_spaces']= [0.0 if i==0.0 else 1.0 for i in reports['public_spaces']]\n",
    "\n",
    "reports.public_spaces.value_counts()"
   ]
  },
  {
   "cell_type": "code",
   "execution_count": 117,
   "metadata": {},
   "outputs": [],
   "source": [
    "#dropping the combined columns\n",
    "\n",
    "reports.drop(['parks_alliance', 'owed_public_spaces'], axis=1, inplace=True)"
   ]
  },
  {
   "cell_type": "markdown",
   "metadata": {},
   "source": [
    "#### Imputing null values: 'areas_of_vulnerability,_2016'"
   ]
  },
  {
   "cell_type": "code",
   "execution_count": 118,
   "metadata": {},
   "outputs": [],
   "source": [
    "#renaming for easier handling\n",
    "\n",
    "reports.rename(columns={'areas_of_vulnerability,_2016': 'vulnerable_areas'}, inplace=True)"
   ]
  },
  {
   "cell_type": "code",
   "execution_count": 119,
   "metadata": {
    "scrolled": true
   },
   "outputs": [
    {
     "data": {
      "text/plain": [
       "2.0    172017\n",
       "1.0    139658\n",
       "Name: vulnerable_areas, dtype: int64"
      ]
     },
     "execution_count": 119,
     "metadata": {},
     "output_type": "execute_result"
    }
   ],
   "source": [
    "reports['vulnerable_areas'].value_counts()"
   ]
  },
  {
   "cell_type": "markdown",
   "metadata": {},
   "source": [
    "These geographic designations were created to define geographic areas within San Francisco that have a higher density of vulnerable populations. These geographic designations will be used for the Health Care Services Master Plan and DPH's Community Health Needs Assessment.\n",
    "\n",
    "Source: https://data.sfgov.org/Geographic-Locations-and-Boundaries/Areas-of-Vulnerability-2016/kc4r-y88d\n",
    "\n",
    "We will impute null values with 0.0 to indicate that the incident did not take place within an area of vulnerability, for all incidents that took place within an area of vulnerability, we will group them together and label them as 1.0."
   ]
  },
  {
   "cell_type": "code",
   "execution_count": 120,
   "metadata": {},
   "outputs": [
    {
     "data": {
      "text/plain": [
       "1.0    311675\n",
       "0.0       126\n",
       "Name: vulnerable_areas, dtype: int64"
      ]
     },
     "execution_count": 120,
     "metadata": {},
     "output_type": "execute_result"
    }
   ],
   "source": [
    "reports['vulnerable_areas'].fillna(0.0, inplace=True)\n",
    "\n",
    "reports['vulnerable_areas']= [0.0 if i==0.0 else 1.0 for i in reports['vulnerable_areas']]\n",
    "\n",
    "reports['vulnerable_areas'].value_counts()"
   ]
  },
  {
   "cell_type": "markdown",
   "metadata": {},
   "source": [
    "#### Imputing null values: 'current_supervisor_districts'"
   ]
  },
  {
   "cell_type": "code",
   "execution_count": 121,
   "metadata": {},
   "outputs": [],
   "source": [
    "#renaming for easier handling\n",
    "\n",
    "reports.rename(columns={'current_supervisor_districts': 'supervisor_districts'}, inplace=True)"
   ]
  },
  {
   "cell_type": "code",
   "execution_count": 122,
   "metadata": {
    "scrolled": true
   },
   "outputs": [
    {
     "data": {
      "text/plain": [
       "10.0    74531\n",
       "3.0     49688\n",
       "2.0     32478\n",
       "11.0    32077\n",
       "9.0     31276\n",
       "5.0     23279\n",
       "6.0     21704\n",
       "4.0     14452\n",
       "8.0     12816\n",
       "1.0     10824\n",
       "7.0      8615\n",
       "Name: supervisor_districts, dtype: int64"
      ]
     },
     "execution_count": 122,
     "metadata": {},
     "output_type": "execute_result"
    }
   ],
   "source": [
    "reports['supervisor_districts'].value_counts()"
   ]
  },
  {
   "cell_type": "markdown",
   "metadata": {},
   "source": [
    "Refers to Supervisor Districts as of the 2012 redistricting. Updated with Board members as of 20 June 2019.\n",
    "\n",
    "Source: https://data.sfgov.org/Geographic-Locations-and-Boundaries/Current-Supervisor-Districts/8nkz-x4ny\n",
    "\n",
    "https://sfbos.org/\n",
    "\n",
    "We will impute null values with 0.0 since the supervisor district is unknown. "
   ]
  },
  {
   "cell_type": "code",
   "execution_count": 123,
   "metadata": {
    "scrolled": true
   },
   "outputs": [
    {
     "data": {
      "text/plain": [
       "10.0    74531\n",
       "3.0     49688\n",
       "2.0     32478\n",
       "11.0    32077\n",
       "9.0     31276\n",
       "5.0     23279\n",
       "6.0     21704\n",
       "4.0     14452\n",
       "8.0     12816\n",
       "1.0     10824\n",
       "7.0      8615\n",
       "0.0        61\n",
       "Name: supervisor_districts, dtype: int64"
      ]
     },
     "execution_count": 123,
     "metadata": {},
     "output_type": "execute_result"
    }
   ],
   "source": [
    "reports['supervisor_districts'].fillna(0.0, inplace=True)\n",
    "\n",
    "reports['supervisor_districts'].value_counts()"
   ]
  },
  {
   "cell_type": "markdown",
   "metadata": {},
   "source": [
    "#### Confirming that there are no more null values"
   ]
  },
  {
   "cell_type": "code",
   "execution_count": 124,
   "metadata": {},
   "outputs": [
    {
     "data": {
      "text/plain": [
       "incident_date              0\n",
       "incident_time              0\n",
       "incident_year              0\n",
       "incident_day_of_week       0\n",
       "report_type_description    0\n",
       "incident_category          0\n",
       "resolution                 0\n",
       "police_district            0\n",
       "analysis_neighborhood      0\n",
       "latitude                   0\n",
       "longitude                  0\n",
       "supervisor_districts       0\n",
       "hsoc_zones                 0\n",
       "vulnerable_areas           0\n",
       "public_spaces              0\n",
       "dtype: int64"
      ]
     },
     "execution_count": 124,
     "metadata": {},
     "output_type": "execute_result"
    }
   ],
   "source": [
    "reports.isnull().sum()"
   ]
  },
  {
   "cell_type": "markdown",
   "metadata": {},
   "source": [
    "### Feature Engineering"
   ]
  },
  {
   "cell_type": "markdown",
   "metadata": {},
   "source": [
    "#### Deleting categories in 'report_type'\n",
    "\n",
    "Based on the description of 'report_type', we know that there are three types of reports (initial, coplogic, and vehicle). Each of these three types can be further split into initial or supplement, where supplements are issued to provide additional incident information or to clarify a mistake in the initial report. For example, a supplemental report may be issued to show an arrest was made, a missing person was found or to provide additional details of property taken in a theft.\n",
    "\n",
    "Source: https://support.datasf.org/help/police-department-incident-reports-2018-to-present-overview\n",
    "\n",
    "Since we are only concerned with each unique incideny report made, we will delete the supplement report types to avoid double counting. "
   ]
  },
  {
   "cell_type": "code",
   "execution_count": 125,
   "metadata": {},
   "outputs": [],
   "source": [
    "#changing name of report_type_description for simplicity\n",
    "\n",
    "reports.rename(columns={'report_type_description':'report_type'}, inplace=True)"
   ]
  },
  {
   "cell_type": "code",
   "execution_count": 126,
   "metadata": {},
   "outputs": [
    {
     "data": {
      "text/plain": [
       "Initial                205089\n",
       "Coplogic Initial        51253\n",
       "Initial Supplement      26309\n",
       "Vehicle Initial         15036\n",
       "Vehicle Supplement       7620\n",
       "Coplogic Supplement      6494\n",
       "Name: report_type, dtype: int64"
      ]
     },
     "execution_count": 126,
     "metadata": {},
     "output_type": "execute_result"
    }
   ],
   "source": [
    "reports.report_type.value_counts()"
   ]
  },
  {
   "cell_type": "code",
   "execution_count": 127,
   "metadata": {},
   "outputs": [
    {
     "data": {
      "text/plain": [
       "(271378, 15)"
      ]
     },
     "execution_count": 127,
     "metadata": {},
     "output_type": "execute_result"
    }
   ],
   "source": [
    "#dropping all rows that are supplement reports\n",
    "\n",
    "reports.drop(reports[reports.report_type.str.contains('Supplement')].index, inplace=True)\n",
    "\n",
    "#confirming that the rows have been dropped\n",
    "reports.shape"
   ]
  },
  {
   "cell_type": "code",
   "execution_count": 128,
   "metadata": {},
   "outputs": [
    {
     "data": {
      "text/plain": [
       "Initial             205089\n",
       "Coplogic Initial     51253\n",
       "Vehicle Initial      15036\n",
       "Name: report_type, dtype: int64"
      ]
     },
     "execution_count": 128,
     "metadata": {},
     "output_type": "execute_result"
    }
   ],
   "source": [
    "reports.report_type.value_counts()"
   ]
  },
  {
   "cell_type": "markdown",
   "metadata": {},
   "source": [
    "#### Dropping categorical variables with mode >80%"
   ]
  },
  {
   "cell_type": "markdown",
   "metadata": {},
   "source": [
    "We will drop categorical variables with mode >80%. This is because there is much less variance and hence such categorical variables will not have significant impact on the model."
   ]
  },
  {
   "cell_type": "code",
   "execution_count": 129,
   "metadata": {},
   "outputs": [],
   "source": [
    "#extracting all categorical variables\n",
    "cat_features = ['incident_year', 'incident_day_of_week', 'report_type',\n",
    "               'incident_category', 'resolution', 'police_district',\n",
    "               'analysis_neighborhood', 'supervisor_districts',\n",
    "               'hsoc_zones', 'vulnerable_areas', 'public_spaces']"
   ]
  },
  {
   "cell_type": "code",
   "execution_count": 130,
   "metadata": {},
   "outputs": [
    {
     "name": "stdout",
     "output_type": "stream",
     "text": [
      "Highest value Percentage of incident_year: 0.466847\n",
      "Highest value Percentage of incident_day_of_week: 0.153255\n",
      "Highest value Percentage of report_type: 0.755732\n",
      "Highest value Percentage of incident_category: 0.323840\n",
      "Highest value Percentage of resolution: 0.775918\n",
      "Highest value Percentage of police_district: 0.161376\n",
      "Highest value Percentage of analysis_neighborhood: 0.117198\n",
      "Highest value Percentage of supervisor_districts: 0.237982\n",
      "Highest value Percentage of hsoc_zones: 0.761171\n",
      "Highest value Percentage of vulnerable_areas: 0.999643\n",
      "Highest value Percentage of public_spaces: 0.940776\n"
     ]
    }
   ],
   "source": [
    "# percentage of frequency of highest value in categorical variables \n",
    "for i in list(cat_features):\n",
    "    pct = reports[i].value_counts().iloc[0] / 271378\n",
    "    print('Highest value Percentage of {}: {:3f}'.format(i, pct))"
   ]
  },
  {
   "cell_type": "code",
   "execution_count": 131,
   "metadata": {},
   "outputs": [
    {
     "data": {
      "text/plain": [
       "(271378, 13)"
      ]
     },
     "execution_count": 131,
     "metadata": {},
     "output_type": "execute_result"
    }
   ],
   "source": [
    "# dropping columns which have frequency of value more than 80% of all values \n",
    "\n",
    "col_drop = ['vulnerable_areas', 'public_spaces']\n",
    "\n",
    "reports.drop(col_drop, axis=1, inplace=True)\n",
    "\n",
    "#confirming that the total number of features are reduced after dropping the above columns\n",
    "reports.shape"
   ]
  },
  {
   "cell_type": "markdown",
   "metadata": {},
   "source": [
    "### Data Dictionary\n",
    "\n",
    "Generating a quick guide to our cleaned data."
   ]
  },
  {
   "cell_type": "markdown",
   "metadata": {},
   "source": [
    "|S/N|Feature|DataType|Type|Description|\n",
    "|---|---|---|---|---|\n",
    "|0|incident_date|object|datetime|Date of incident|\n",
    "|1|incident_time|object|datetime|Time of incident|\n",
    "|2|incident_year|int64|discrete|Year of incident|\n",
    "|3|incident_day_of_week|object|nominal|Day of week that incident took palce|\n",
    "|4|report_type|object|nominal|Type of report made: initial (first report filed), coplogic (filed online), vehicle (special report related to stolen and/or recovered vehicles). Each report can be either an initial or supplement one.|\n",
    "|5|incident_category|object|nominal|Type of incident e.g. larceny theft, assault|\n",
    "|6|resolution|object|nominal|The resolution of the incident at the time of the report. Can be one of: - Cite or Arrest Adult - Cite or Arrest Juvenile - Exceptional Adult - Exceptional Juvenile - Open or Active.|\n",
    "|7|police_district|object|nominal|The Police district which the incident took place in.|\n",
    "|8|analysis_neighborhood|object|nominal|The Department of Public Health and the Mayor’s Office of Housing and Community Development, with support from the Planning Department, created these 41 neighborhoods by grouping 2010 Census tracts, using common real estate and residents’ definitions for the purpose of providing consistency in the analysis and reporting of socio-economic, demographic, and environmental data, and data on City-funded programs and services.|\n",
    "|9|latitude|float64|continuous|The latitude coordinate in WGS84, spatial reference is EPSG:4326.|\n",
    "|10|longitude|float64|continuous|The longitude coordinate in WGS84, spatial reference is EPSG:4326.|\n",
    "|11|supervisor_districts|float64|nominal|There are 11 members elected to the Board of Supervisors in San Francisco, each representing a geographic district. The Board of Supervisors is the legislative body for San Francisco. The districts are numbered 1 through 11.|\n",
    "|12|hsoc_zones|float64|nominal|HSOC refers to \"Healthy Streets Operation Center\", a San Francisco inter-agecy effort (SF Police Dept, Dept of Public Health, SF Public Works etc.) to coordinate the City's response to homelessness.m|"
   ]
  },
  {
   "cell_type": "markdown",
   "metadata": {},
   "source": [
    "### Exploratory Data Analysis"
   ]
  },
  {
   "cell_type": "code",
   "execution_count": 132,
   "metadata": {},
   "outputs": [],
   "source": [
    "#extracting all remaining categorical variables\n",
    "cat_features = ['incident_year', 'incident_day_of_week', 'report_type',\n",
    "               'incident_category', 'resolution', 'police_district',\n",
    "               'analysis_neighborhood', 'supervisor_districts',\n",
    "               'hsoc_zones']"
   ]
  },
  {
   "cell_type": "code",
   "execution_count": 133,
   "metadata": {},
   "outputs": [],
   "source": [
    "#creating function to plot boxplots for each categorical variable against saleprice\n",
    "def subplot_countplots(dataframe, list_of_columns):\n",
    "    nrows = len(list_of_columns)\n",
    "    fig, ax = plt.subplots(nrows=nrows, ncols=1, figsize = (15,100)) \n",
    "    for i, column in enumerate(list_of_columns): # Gives us an index value to get into all our lists\n",
    "        sns.countplot(y=dataframe[column], ax=ax[i],\n",
    "                     order=dataframe[column].value_counts().index)\n",
    "        ax[i].set_ylabel(list_of_columns[i])\n"
   ]
  },
  {
   "cell_type": "code",
   "execution_count": 134,
   "metadata": {
    "scrolled": false
   },
   "outputs": [
    {
     "data": {
      "image/png": "[encoded data removed]",
      "text/plain": [
       "<Figure size 1080x7200 with 9 Axes>"
      ]
     },
     "metadata": {
      "needs_background": "light"
     },
     "output_type": "display_data"
    }
   ],
   "source": [
    "subplot_countplots(reports, cat_features)"
   ]
  },
  {
   "cell_type": "code",
   "execution_count": 135,
   "metadata": {},
   "outputs": [
    {
     "data": {
      "image/png": "[encoded data removed]",
      "text/plain": [
       "<Figure size 1296x864 with 1 Axes>"
      ]
     },
     "metadata": {
      "needs_background": "light"
     },
     "output_type": "display_data"
    }
   ],
   "source": [
    "df = pd.crosstab(reports.incident_category, reports.police_district)\n",
    "color = plt.cm.YlOrRd(np.linspace(0, 1, 10))\n",
    "df.div(df.sum(1).astype(float), axis = 0).plot.bar(stacked = True, color = color, figsize = (18, 12))\n",
    "plt.title('Police District vs Incident Category', fontweight = 30, fontsize = 20)\n",
    "plt.xticks(rotation = 90)\n",
    "plt.show()"
   ]
  },
  {
   "cell_type": "markdown",
   "metadata": {},
   "source": [
    "#### Further understanding and grouping incident categories\n",
    "\n",
    "There are many incident categories and such level of detail is not necessary. It would be more helpful for Police commanders and policymakers to have the predicted number of crimes grouped by broader and more meaningful categories. \n",
    "\n",
    "Based on domain knowledge and research, I have developed the new groups below. Depending on the nature of the crime/incident found in the groups below, different operational and policy tools should be used to address the different groups.\n",
    "\n",
    "- <U>Preventable crime</U>: such crimes are preventable with increased security presence and/or surveillance (whether through Police, community, and to a lesser extent, cameras) because they happen out in the open or can be easily observed. For example, robbery, burglary or snatch theft are less likely to occur if there is strong police presence in the area, because the culprit knows that he/she could be easily caught immediately after committing the crime. Areas with higher numbers of such crime would easily benefit from increased police patrols or community and tech surveillance measures. \n",
    "\n",
    "- <U>Violent crime</U>: such crimes occur less frequently, are of much higher signature, and typically require more advanced investigative resources to solve. They are not as easily preventable as the previous category because they tend to be crimes of passion. Areas with higher numbers of such crime may require specialised resources and measures (combining security, social and economic ones). \n",
    "\n",
    "- <U>Drug crime</U>: such crimes have stronger link with social and health issues, and typically recur due to additction. Addressing such crimes include helping victims work on their addictios, and cutting the sources of the drugs. Different policy and operational measures are required to curb such crimes.\n",
    "\n",
    "- <U>White-collar crime</U>: such crimes e.g. fraud, forgery, are highly premeditated and require specialised detection and investigation resources. As described by FBI, \"these crimes are characterized by deceit, concealment, or violation of trust and are not dependent on the application or threat of physical force or violence.\" Therefore, physical police presence would be insufficient in preventing them. Different policy and operational measures are required to curb such crimes.\n",
    "\n",
    "- <U>Non-violent crime/incident</U>: for all other crimes/incidents for which increased police presence would not matter, or there are comparatively too few of them to be a distinct group of its own for the purpose of our analysis (this does not mean that the crime is insignificant, only that they are much smaller in number). \n",
    "\n",
    "Some ofthe incident catoegories below can be easily sorted into my new groups. However, there are a few which are not as clear. These are: 'Other Miscellaneous', ‘Warrant’, ‘Suspicious Occ’, ‘Offences Against The Family And Children’, ‘Other Offenses’, ‘Other’. We will look through the description of each below and decide which group they below to. Thereafter, I will create the new groups for further EDA and subsequent modeling.                                        "
   ]
  },
  {
   "cell_type": "code",
   "execution_count": 136,
   "metadata": {},
   "outputs": [
    {
     "data": {
      "text/plain": [
       "Larceny Theft                                   87883\n",
       "Other Miscellaneous                             21921\n",
       "Non-Criminal                                    18159\n",
       "Malicious Mischief                              17820\n",
       "Assault                                         17423\n",
       "Burglary                                        11222\n",
       "Motor Vehicle Theft                             10903\n",
       "Warrant                                          9430\n",
       "Lost Property                                    9259\n",
       "Fraud                                            8782\n",
       "Drug Offense                                     7571\n",
       "Robbery                                          6637\n",
       "Suspicious Occ                                   5753\n",
       "Offences Against The Family And Children         5602\n",
       "Disorderly Conduct                               5330\n",
       "Missing Person                                   4630\n",
       "Traffic Violation Arrest                         4050\n",
       "Miscellaneous Investigation                      2675\n",
       "Other                                            2130\n",
       "Other Offenses                                   1726\n",
       "Weapons Offense                                  1518\n",
       "Weapons Carrying Etc                             1342\n",
       "Stolen Property                                  1257\n",
       "Forgery And Counterfeiting                       1172\n",
       "Courtesy Report                                   917\n",
       "Civil Sidewalks                                   837\n",
       "Prostitution                                      780\n",
       "Sex Offense                                       741\n",
       "Recovered Vehicle                                 649\n",
       "Arson                                             643\n",
       "Vandalism                                         397\n",
       "Embezzlement                                      390\n",
       "Family Offense                                    367\n",
       "Fire Report                                       307\n",
       "Traffic Collision                                 288\n",
       "Vehicle Impounded                                 182\n",
       "Suicide                                           140\n",
       "Human Trafficking (A), Commercial Sex Acts         86\n",
       "Drug Violation                                     86\n",
       "Rape                                               81\n",
       "Case Closure                                       80\n",
       "Liquor Laws                                        67\n",
       "Suspicious                                         51\n",
       "Motor Vehicle Theft?                               24\n",
       "Gambling                                           19\n",
       "Vehicle Misplaced                                  16\n",
       "Human Trafficking, Commercial Sex Acts             14\n",
       "Weapons Offence                                    12\n",
       "Homicide                                            7\n",
       "Human Trafficking (B), Involuntary Servitude        1\n",
       "Juvenile Offenses                                   1\n",
       "Name: incident_category, dtype: int64"
      ]
     },
     "execution_count": 136,
     "metadata": {},
     "output_type": "execute_result"
    }
   ],
   "source": [
    "#list and count of all unique incident categories\n",
    "reports.incident_category.value_counts()"
   ]
  },
  {
   "cell_type": "code",
   "execution_count": 137,
   "metadata": {
    "scrolled": true
   },
   "outputs": [],
   "source": [
    "reports2=pd.read_csv('../data/reports.csv')"
   ]
  },
  {
   "cell_type": "code",
   "execution_count": 139,
   "metadata": {},
   "outputs": [],
   "source": [
    "#standardising column names, replacing the spaces with underscores\n",
    "#...and converting all letters to lowercase \n",
    "reports2.columns = reports2.columns.str.replace(' ', '_').str.lower()"
   ]
  },
  {
   "cell_type": "markdown",
   "metadata": {},
   "source": [
    "#### Understanding the 'Other Miscellaneous' incident category\n",
    "\n",
    "Based on the description of incidents found under 'Other Miscellaneous', I will group this category under my non_violent incident subcategory."
   ]
  },
  {
   "cell_type": "code",
   "execution_count": 140,
   "metadata": {},
   "outputs": [],
   "source": [
    "other=reports2[['incident_category', 'incident_subcategory', 'incident_description']][reports2['incident_category']=='Other Miscellaneous'] "
   ]
  },
  {
   "cell_type": "code",
   "execution_count": 141,
   "metadata": {},
   "outputs": [
    {
     "data": {
      "text/plain": [
       "<matplotlib.axes._subplots.AxesSubplot at 0x29ad80f2848>"
      ]
     },
     "execution_count": 141,
     "metadata": {},
     "output_type": "execute_result"
    },
    {
     "data": {
      "image/png": "[encoded data removed]",
      "text/plain": [
       "<Figure size 432x288 with 1 Axes>"
      ]
     },
     "metadata": {
      "needs_background": "light"
     },
     "output_type": "display_data"
    }
   ],
   "source": [
    "pd.DataFrame(other.incident_description.value_counts()).head(25).plot.barh()"
   ]
  },
  {
   "cell_type": "markdown",
   "metadata": {},
   "source": [
    "Move to non-violent"
   ]
  },
  {
   "cell_type": "markdown",
   "metadata": {},
   "source": [
    "#### Understanding the 'Warrant' incident category"
   ]
  },
  {
   "cell_type": "code",
   "execution_count": 142,
   "metadata": {
    "scrolled": true
   },
   "outputs": [
    {
     "data": {
      "text/html": [
       "<div>\n",
       "<style scoped>\n",
       "    .dataframe tbody tr th:only-of-type {\n",
       "        vertical-align: middle;\n",
       "    }\n",
       "\n",
       "    .dataframe tbody tr th {\n",
       "        vertical-align: top;\n",
       "    }\n",
       "\n",
       "    .dataframe thead th {\n",
       "        text-align: right;\n",
       "    }\n",
       "</style>\n",
       "<table border=\"1\" class=\"dataframe\">\n",
       "  <thead>\n",
       "    <tr style=\"text-align: right;\">\n",
       "      <th></th>\n",
       "      <th>incident_category</th>\n",
       "      <th>incident_subcategory</th>\n",
       "      <th>incident_description</th>\n",
       "    </tr>\n",
       "  </thead>\n",
       "  <tbody>\n",
       "    <tr>\n",
       "      <th>24</th>\n",
       "      <td>Warrant</td>\n",
       "      <td>Other</td>\n",
       "      <td>Warrant Arrest, Local SF Warrant</td>\n",
       "    </tr>\n",
       "    <tr>\n",
       "      <th>27</th>\n",
       "      <td>Warrant</td>\n",
       "      <td>Other</td>\n",
       "      <td>Warrant Arrest, Local SF Warrant</td>\n",
       "    </tr>\n",
       "    <tr>\n",
       "      <th>30</th>\n",
       "      <td>Warrant</td>\n",
       "      <td>Other</td>\n",
       "      <td>Warrant Arrest, Local SF Warrant</td>\n",
       "    </tr>\n",
       "    <tr>\n",
       "      <th>35</th>\n",
       "      <td>Warrant</td>\n",
       "      <td>Other</td>\n",
       "      <td>Warrant Arrest, Local SF Warrant</td>\n",
       "    </tr>\n",
       "    <tr>\n",
       "      <th>69</th>\n",
       "      <td>Warrant</td>\n",
       "      <td>Warrant</td>\n",
       "      <td>Warrant Arrest, Enroute To Parole</td>\n",
       "    </tr>\n",
       "    <tr>\n",
       "      <th>...</th>\n",
       "      <td>...</td>\n",
       "      <td>...</td>\n",
       "      <td>...</td>\n",
       "    </tr>\n",
       "    <tr>\n",
       "      <th>329268</th>\n",
       "      <td>Warrant</td>\n",
       "      <td>Warrant</td>\n",
       "      <td>Warrant Arrest, Enroute To Dept. Of Corrections</td>\n",
       "    </tr>\n",
       "    <tr>\n",
       "      <th>329303</th>\n",
       "      <td>Warrant</td>\n",
       "      <td>Other</td>\n",
       "      <td>Warrant Arrest, Local SF Warrant</td>\n",
       "    </tr>\n",
       "    <tr>\n",
       "      <th>329374</th>\n",
       "      <td>Warrant</td>\n",
       "      <td>Warrant</td>\n",
       "      <td>Warrant Arrest, Enroute To US Marshall</td>\n",
       "    </tr>\n",
       "    <tr>\n",
       "      <th>329400</th>\n",
       "      <td>Warrant</td>\n",
       "      <td>Warrant</td>\n",
       "      <td>Warrant Arrest, Enroute To Outside Jurisdiction</td>\n",
       "    </tr>\n",
       "    <tr>\n",
       "      <th>329402</th>\n",
       "      <td>Warrant</td>\n",
       "      <td>Other</td>\n",
       "      <td>Warrant Arrest, Local SF Warrant</td>\n",
       "    </tr>\n",
       "  </tbody>\n",
       "</table>\n",
       "<p>12063 rows × 3 columns</p>\n",
       "</div>"
      ],
      "text/plain": [
       "       incident_category incident_subcategory  \\\n",
       "24               Warrant                Other   \n",
       "27               Warrant                Other   \n",
       "30               Warrant                Other   \n",
       "35               Warrant                Other   \n",
       "69               Warrant              Warrant   \n",
       "...                  ...                  ...   \n",
       "329268           Warrant              Warrant   \n",
       "329303           Warrant                Other   \n",
       "329374           Warrant              Warrant   \n",
       "329400           Warrant              Warrant   \n",
       "329402           Warrant                Other   \n",
       "\n",
       "                                   incident_description  \n",
       "24                     Warrant Arrest, Local SF Warrant  \n",
       "27                     Warrant Arrest, Local SF Warrant  \n",
       "30                     Warrant Arrest, Local SF Warrant  \n",
       "35                     Warrant Arrest, Local SF Warrant  \n",
       "69                    Warrant Arrest, Enroute To Parole  \n",
       "...                                                 ...  \n",
       "329268  Warrant Arrest, Enroute To Dept. Of Corrections  \n",
       "329303                 Warrant Arrest, Local SF Warrant  \n",
       "329374           Warrant Arrest, Enroute To US Marshall  \n",
       "329400  Warrant Arrest, Enroute To Outside Jurisdiction  \n",
       "329402                 Warrant Arrest, Local SF Warrant  \n",
       "\n",
       "[12063 rows x 3 columns]"
      ]
     },
     "execution_count": 142,
     "metadata": {},
     "output_type": "execute_result"
    }
   ],
   "source": [
    "reports2[['incident_category', 'incident_subcategory', 'incident_description']][reports2['incident_category']=='Warrant'] "
   ]
  },
  {
   "cell_type": "markdown",
   "metadata": {},
   "source": [
    "Move to non-violent"
   ]
  },
  {
   "cell_type": "markdown",
   "metadata": {},
   "source": [
    "#### Understanding the 'Suspicious Occ' incident category"
   ]
  },
  {
   "cell_type": "code",
   "execution_count": 143,
   "metadata": {
    "scrolled": true
   },
   "outputs": [
    {
     "data": {
      "text/html": [
       "<div>\n",
       "<style scoped>\n",
       "    .dataframe tbody tr th:only-of-type {\n",
       "        vertical-align: middle;\n",
       "    }\n",
       "\n",
       "    .dataframe tbody tr th {\n",
       "        vertical-align: top;\n",
       "    }\n",
       "\n",
       "    .dataframe thead th {\n",
       "        text-align: right;\n",
       "    }\n",
       "</style>\n",
       "<table border=\"1\" class=\"dataframe\">\n",
       "  <thead>\n",
       "    <tr style=\"text-align: right;\">\n",
       "      <th></th>\n",
       "      <th>incident_category</th>\n",
       "      <th>incident_subcategory</th>\n",
       "      <th>incident_description</th>\n",
       "    </tr>\n",
       "  </thead>\n",
       "  <tbody>\n",
       "    <tr>\n",
       "      <th>71</th>\n",
       "      <td>Suspicious Occ</td>\n",
       "      <td>Suspicious Occ</td>\n",
       "      <td>Suspicious Occurrence</td>\n",
       "    </tr>\n",
       "    <tr>\n",
       "      <th>82</th>\n",
       "      <td>Suspicious Occ</td>\n",
       "      <td>Suspicious Occ</td>\n",
       "      <td>Suspicious Occurrence</td>\n",
       "    </tr>\n",
       "    <tr>\n",
       "      <th>203</th>\n",
       "      <td>Suspicious Occ</td>\n",
       "      <td>Suspicious Occ</td>\n",
       "      <td>Suspicious Occurrence</td>\n",
       "    </tr>\n",
       "    <tr>\n",
       "      <th>209</th>\n",
       "      <td>Suspicious Occ</td>\n",
       "      <td>Suspicious Occ</td>\n",
       "      <td>Suspicious Occurrence</td>\n",
       "    </tr>\n",
       "    <tr>\n",
       "      <th>242</th>\n",
       "      <td>Suspicious Occ</td>\n",
       "      <td>Suspicious Occ</td>\n",
       "      <td>Suspicious Occurrence</td>\n",
       "    </tr>\n",
       "    <tr>\n",
       "      <th>...</th>\n",
       "      <td>...</td>\n",
       "      <td>...</td>\n",
       "      <td>...</td>\n",
       "    </tr>\n",
       "    <tr>\n",
       "      <th>329294</th>\n",
       "      <td>Suspicious Occ</td>\n",
       "      <td>Suspicious Occ</td>\n",
       "      <td>Suspicious Occurrence</td>\n",
       "    </tr>\n",
       "    <tr>\n",
       "      <th>329315</th>\n",
       "      <td>Suspicious Occ</td>\n",
       "      <td>Suspicious Occ</td>\n",
       "      <td>Suspicious Occurrence</td>\n",
       "    </tr>\n",
       "    <tr>\n",
       "      <th>329363</th>\n",
       "      <td>Suspicious Occ</td>\n",
       "      <td>Suspicious Occ</td>\n",
       "      <td>Suspicious Occurrence</td>\n",
       "    </tr>\n",
       "    <tr>\n",
       "      <th>329370</th>\n",
       "      <td>Suspicious Occ</td>\n",
       "      <td>Suspicious Occ</td>\n",
       "      <td>Suspicious Occurrence</td>\n",
       "    </tr>\n",
       "    <tr>\n",
       "      <th>329379</th>\n",
       "      <td>Suspicious Occ</td>\n",
       "      <td>Suspicious Occ</td>\n",
       "      <td>Suspicious Person</td>\n",
       "    </tr>\n",
       "  </tbody>\n",
       "</table>\n",
       "<p>6125 rows × 3 columns</p>\n",
       "</div>"
      ],
      "text/plain": [
       "       incident_category incident_subcategory   incident_description\n",
       "71        Suspicious Occ       Suspicious Occ  Suspicious Occurrence\n",
       "82        Suspicious Occ       Suspicious Occ  Suspicious Occurrence\n",
       "203       Suspicious Occ       Suspicious Occ  Suspicious Occurrence\n",
       "209       Suspicious Occ       Suspicious Occ  Suspicious Occurrence\n",
       "242       Suspicious Occ       Suspicious Occ  Suspicious Occurrence\n",
       "...                  ...                  ...                    ...\n",
       "329294    Suspicious Occ       Suspicious Occ  Suspicious Occurrence\n",
       "329315    Suspicious Occ       Suspicious Occ  Suspicious Occurrence\n",
       "329363    Suspicious Occ       Suspicious Occ  Suspicious Occurrence\n",
       "329370    Suspicious Occ       Suspicious Occ  Suspicious Occurrence\n",
       "329379    Suspicious Occ       Suspicious Occ      Suspicious Person\n",
       "\n",
       "[6125 rows x 3 columns]"
      ]
     },
     "execution_count": 143,
     "metadata": {},
     "output_type": "execute_result"
    }
   ],
   "source": [
    "reports2[['incident_category', 'incident_subcategory', 'incident_description']][reports2['incident_category']=='Suspicious Occ'] "
   ]
  },
  {
   "cell_type": "markdown",
   "metadata": {},
   "source": [
    "Move to preventable"
   ]
  },
  {
   "cell_type": "markdown",
   "metadata": {},
   "source": [
    "#### Understanding the 'Offences Against The Family And Children' incident category"
   ]
  },
  {
   "cell_type": "code",
   "execution_count": 144,
   "metadata": {},
   "outputs": [
    {
     "data": {
      "text/html": [
       "<div>\n",
       "<style scoped>\n",
       "    .dataframe tbody tr th:only-of-type {\n",
       "        vertical-align: middle;\n",
       "    }\n",
       "\n",
       "    .dataframe tbody tr th {\n",
       "        vertical-align: top;\n",
       "    }\n",
       "\n",
       "    .dataframe thead th {\n",
       "        text-align: right;\n",
       "    }\n",
       "</style>\n",
       "<table border=\"1\" class=\"dataframe\">\n",
       "  <thead>\n",
       "    <tr style=\"text-align: right;\">\n",
       "      <th></th>\n",
       "      <th>incident_category</th>\n",
       "      <th>incident_subcategory</th>\n",
       "      <th>incident_description</th>\n",
       "    </tr>\n",
       "  </thead>\n",
       "  <tbody>\n",
       "    <tr>\n",
       "      <th>0</th>\n",
       "      <td>Offences Against The Family And Children</td>\n",
       "      <td>Other</td>\n",
       "      <td>Domestic Violence (secondary only)</td>\n",
       "    </tr>\n",
       "    <tr>\n",
       "      <th>3</th>\n",
       "      <td>Offences Against The Family And Children</td>\n",
       "      <td>Family Offenses</td>\n",
       "      <td>Elder Adult or Dependent Abuse (not Embezzleme...</td>\n",
       "    </tr>\n",
       "    <tr>\n",
       "      <th>32</th>\n",
       "      <td>Offences Against The Family And Children</td>\n",
       "      <td>Other</td>\n",
       "      <td>Violation of Stay Away Order</td>\n",
       "    </tr>\n",
       "    <tr>\n",
       "      <th>40</th>\n",
       "      <td>Offences Against The Family And Children</td>\n",
       "      <td>Other</td>\n",
       "      <td>Hate Crime (secondary only)</td>\n",
       "    </tr>\n",
       "    <tr>\n",
       "      <th>64</th>\n",
       "      <td>Offences Against The Family And Children</td>\n",
       "      <td>Family Offenses</td>\n",
       "      <td>Elder Adult or Dependent Abuse (not Embezzleme...</td>\n",
       "    </tr>\n",
       "    <tr>\n",
       "      <th>...</th>\n",
       "      <td>...</td>\n",
       "      <td>...</td>\n",
       "      <td>...</td>\n",
       "    </tr>\n",
       "    <tr>\n",
       "      <th>329253</th>\n",
       "      <td>Offences Against The Family And Children</td>\n",
       "      <td>Other</td>\n",
       "      <td>Restraining Order Notification/Service of Rest...</td>\n",
       "    </tr>\n",
       "    <tr>\n",
       "      <th>329327</th>\n",
       "      <td>Offences Against The Family And Children</td>\n",
       "      <td>Other</td>\n",
       "      <td>Hate Crime (secondary only)</td>\n",
       "    </tr>\n",
       "    <tr>\n",
       "      <th>329398</th>\n",
       "      <td>Offences Against The Family And Children</td>\n",
       "      <td>Other</td>\n",
       "      <td>Domestic Violence (secondary only)</td>\n",
       "    </tr>\n",
       "    <tr>\n",
       "      <th>329449</th>\n",
       "      <td>Offences Against The Family And Children</td>\n",
       "      <td>Other</td>\n",
       "      <td>Domestic Violence (secondary only)</td>\n",
       "    </tr>\n",
       "    <tr>\n",
       "      <th>329457</th>\n",
       "      <td>Offences Against The Family And Children</td>\n",
       "      <td>Other</td>\n",
       "      <td>Restraining Order Notification/Service of Rest...</td>\n",
       "    </tr>\n",
       "  </tbody>\n",
       "</table>\n",
       "<p>6339 rows × 3 columns</p>\n",
       "</div>"
      ],
      "text/plain": [
       "                               incident_category incident_subcategory  \\\n",
       "0       Offences Against The Family And Children                Other   \n",
       "3       Offences Against The Family And Children      Family Offenses   \n",
       "32      Offences Against The Family And Children                Other   \n",
       "40      Offences Against The Family And Children                Other   \n",
       "64      Offences Against The Family And Children      Family Offenses   \n",
       "...                                          ...                  ...   \n",
       "329253  Offences Against The Family And Children                Other   \n",
       "329327  Offences Against The Family And Children                Other   \n",
       "329398  Offences Against The Family And Children                Other   \n",
       "329449  Offences Against The Family And Children                Other   \n",
       "329457  Offences Against The Family And Children                Other   \n",
       "\n",
       "                                     incident_description  \n",
       "0                      Domestic Violence (secondary only)  \n",
       "3       Elder Adult or Dependent Abuse (not Embezzleme...  \n",
       "32                           Violation of Stay Away Order  \n",
       "40                            Hate Crime (secondary only)  \n",
       "64      Elder Adult or Dependent Abuse (not Embezzleme...  \n",
       "...                                                   ...  \n",
       "329253  Restraining Order Notification/Service of Rest...  \n",
       "329327                        Hate Crime (secondary only)  \n",
       "329398                 Domestic Violence (secondary only)  \n",
       "329449                 Domestic Violence (secondary only)  \n",
       "329457  Restraining Order Notification/Service of Rest...  \n",
       "\n",
       "[6339 rows x 3 columns]"
      ]
     },
     "execution_count": 144,
     "metadata": {},
     "output_type": "execute_result"
    }
   ],
   "source": [
    "reports2[['incident_category', 'incident_subcategory', 'incident_description']][reports2['incident_category']=='Offences Against The Family And Children'] "
   ]
  },
  {
   "cell_type": "markdown",
   "metadata": {},
   "source": [
    "Move to preventable"
   ]
  },
  {
   "cell_type": "markdown",
   "metadata": {},
   "source": [
    "#### Understanding the 'Other Offenses' incident category"
   ]
  },
  {
   "cell_type": "code",
   "execution_count": 146,
   "metadata": {},
   "outputs": [
    {
     "data": {
      "text/html": [
       "<div>\n",
       "<style scoped>\n",
       "    .dataframe tbody tr th:only-of-type {\n",
       "        vertical-align: middle;\n",
       "    }\n",
       "\n",
       "    .dataframe tbody tr th {\n",
       "        vertical-align: top;\n",
       "    }\n",
       "\n",
       "    .dataframe thead th {\n",
       "        text-align: right;\n",
       "    }\n",
       "</style>\n",
       "<table border=\"1\" class=\"dataframe\">\n",
       "  <thead>\n",
       "    <tr style=\"text-align: right;\">\n",
       "      <th></th>\n",
       "      <th>incident_category</th>\n",
       "      <th>incident_subcategory</th>\n",
       "      <th>incident_description</th>\n",
       "    </tr>\n",
       "  </thead>\n",
       "  <tbody>\n",
       "    <tr>\n",
       "      <th>15</th>\n",
       "      <td>Other Offenses</td>\n",
       "      <td>Other</td>\n",
       "      <td>Alcohol, Consuming In Public View</td>\n",
       "    </tr>\n",
       "    <tr>\n",
       "      <th>19</th>\n",
       "      <td>Other Offenses</td>\n",
       "      <td>Other Offenses</td>\n",
       "      <td>License Plate, Recovered</td>\n",
       "    </tr>\n",
       "    <tr>\n",
       "      <th>192</th>\n",
       "      <td>Other Offenses</td>\n",
       "      <td>Other</td>\n",
       "      <td>Park Code Violation (general)</td>\n",
       "    </tr>\n",
       "    <tr>\n",
       "      <th>460</th>\n",
       "      <td>Other Offenses</td>\n",
       "      <td>Other Offenses</td>\n",
       "      <td>License Plate, Recovered</td>\n",
       "    </tr>\n",
       "    <tr>\n",
       "      <th>535</th>\n",
       "      <td>Other Offenses</td>\n",
       "      <td>Other Offenses</td>\n",
       "      <td>License Plate, Recovered</td>\n",
       "    </tr>\n",
       "    <tr>\n",
       "      <th>...</th>\n",
       "      <td>...</td>\n",
       "      <td>...</td>\n",
       "      <td>...</td>\n",
       "    </tr>\n",
       "    <tr>\n",
       "      <th>328553</th>\n",
       "      <td>Other Offenses</td>\n",
       "      <td>Other Offenses</td>\n",
       "      <td>License Plate, Recovered</td>\n",
       "    </tr>\n",
       "    <tr>\n",
       "      <th>328623</th>\n",
       "      <td>Other Offenses</td>\n",
       "      <td>Other Offenses</td>\n",
       "      <td>License Plate, Recovered</td>\n",
       "    </tr>\n",
       "    <tr>\n",
       "      <th>328626</th>\n",
       "      <td>Other Offenses</td>\n",
       "      <td>Other</td>\n",
       "      <td>Alcohol, Consuming In Public View</td>\n",
       "    </tr>\n",
       "    <tr>\n",
       "      <th>328925</th>\n",
       "      <td>Other Offenses</td>\n",
       "      <td>Other Offenses</td>\n",
       "      <td>License Plate, Recovered</td>\n",
       "    </tr>\n",
       "    <tr>\n",
       "      <th>329293</th>\n",
       "      <td>Other Offenses</td>\n",
       "      <td>Other Offenses</td>\n",
       "      <td>License Plate, Recovered</td>\n",
       "    </tr>\n",
       "  </tbody>\n",
       "</table>\n",
       "<p>2558 rows × 3 columns</p>\n",
       "</div>"
      ],
      "text/plain": [
       "       incident_category incident_subcategory  \\\n",
       "15        Other Offenses                Other   \n",
       "19        Other Offenses       Other Offenses   \n",
       "192       Other Offenses                Other   \n",
       "460       Other Offenses       Other Offenses   \n",
       "535       Other Offenses       Other Offenses   \n",
       "...                  ...                  ...   \n",
       "328553    Other Offenses       Other Offenses   \n",
       "328623    Other Offenses       Other Offenses   \n",
       "328626    Other Offenses                Other   \n",
       "328925    Other Offenses       Other Offenses   \n",
       "329293    Other Offenses       Other Offenses   \n",
       "\n",
       "                     incident_description  \n",
       "15      Alcohol, Consuming In Public View  \n",
       "19               License Plate, Recovered  \n",
       "192         Park Code Violation (general)  \n",
       "460              License Plate, Recovered  \n",
       "535              License Plate, Recovered  \n",
       "...                                   ...  \n",
       "328553           License Plate, Recovered  \n",
       "328623           License Plate, Recovered  \n",
       "328626  Alcohol, Consuming In Public View  \n",
       "328925           License Plate, Recovered  \n",
       "329293           License Plate, Recovered  \n",
       "\n",
       "[2558 rows x 3 columns]"
      ]
     },
     "execution_count": 146,
     "metadata": {},
     "output_type": "execute_result"
    }
   ],
   "source": [
    "reports2[['incident_category', 'incident_subcategory', 'incident_description']][reports2['incident_category']=='Other Offenses'] "
   ]
  },
  {
   "cell_type": "markdown",
   "metadata": {},
   "source": [
    "Move to non-violent"
   ]
  },
  {
   "cell_type": "markdown",
   "metadata": {},
   "source": [
    "#### Understanding the 'Other' incident category"
   ]
  },
  {
   "cell_type": "code",
   "execution_count": 148,
   "metadata": {},
   "outputs": [
    {
     "data": {
      "text/html": [
       "<div>\n",
       "<style scoped>\n",
       "    .dataframe tbody tr th:only-of-type {\n",
       "        vertical-align: middle;\n",
       "    }\n",
       "\n",
       "    .dataframe tbody tr th {\n",
       "        vertical-align: top;\n",
       "    }\n",
       "\n",
       "    .dataframe thead th {\n",
       "        text-align: right;\n",
       "    }\n",
       "</style>\n",
       "<table border=\"1\" class=\"dataframe\">\n",
       "  <thead>\n",
       "    <tr style=\"text-align: right;\">\n",
       "      <th></th>\n",
       "      <th>incident_category</th>\n",
       "      <th>incident_subcategory</th>\n",
       "      <th>incident_description</th>\n",
       "    </tr>\n",
       "  </thead>\n",
       "  <tbody>\n",
       "    <tr>\n",
       "      <th>91</th>\n",
       "      <td>Other</td>\n",
       "      <td>Other</td>\n",
       "      <td>Death Report, Cause Unknown</td>\n",
       "    </tr>\n",
       "    <tr>\n",
       "      <th>184</th>\n",
       "      <td>Other</td>\n",
       "      <td>Other</td>\n",
       "      <td>Death Report, Cause Unknown</td>\n",
       "    </tr>\n",
       "    <tr>\n",
       "      <th>253</th>\n",
       "      <td>Other</td>\n",
       "      <td>Other</td>\n",
       "      <td>Death Report, Cause Unknown</td>\n",
       "    </tr>\n",
       "    <tr>\n",
       "      <th>270</th>\n",
       "      <td>Other</td>\n",
       "      <td>Other</td>\n",
       "      <td>Death Report, Cause Unknown</td>\n",
       "    </tr>\n",
       "    <tr>\n",
       "      <th>295</th>\n",
       "      <td>Other</td>\n",
       "      <td>Other</td>\n",
       "      <td>Death Report, Natural Causes</td>\n",
       "    </tr>\n",
       "    <tr>\n",
       "      <th>...</th>\n",
       "      <td>...</td>\n",
       "      <td>...</td>\n",
       "      <td>...</td>\n",
       "    </tr>\n",
       "    <tr>\n",
       "      <th>328836</th>\n",
       "      <td>Other</td>\n",
       "      <td>Other</td>\n",
       "      <td>Death Report, Cause Unknown</td>\n",
       "    </tr>\n",
       "    <tr>\n",
       "      <th>329162</th>\n",
       "      <td>Other</td>\n",
       "      <td>Other</td>\n",
       "      <td>Death Report, Natural Causes</td>\n",
       "    </tr>\n",
       "    <tr>\n",
       "      <th>329189</th>\n",
       "      <td>Other</td>\n",
       "      <td>Other</td>\n",
       "      <td>Death Report, Cause Unknown</td>\n",
       "    </tr>\n",
       "    <tr>\n",
       "      <th>329359</th>\n",
       "      <td>Other</td>\n",
       "      <td>Other</td>\n",
       "      <td>Death Report, Cause Unknown</td>\n",
       "    </tr>\n",
       "    <tr>\n",
       "      <th>329387</th>\n",
       "      <td>Other</td>\n",
       "      <td>Other</td>\n",
       "      <td>Death Report, Cause Unknown</td>\n",
       "    </tr>\n",
       "  </tbody>\n",
       "</table>\n",
       "<p>2160 rows × 3 columns</p>\n",
       "</div>"
      ],
      "text/plain": [
       "       incident_category incident_subcategory          incident_description\n",
       "91                 Other                Other   Death Report, Cause Unknown\n",
       "184                Other                Other   Death Report, Cause Unknown\n",
       "253                Other                Other   Death Report, Cause Unknown\n",
       "270                Other                Other   Death Report, Cause Unknown\n",
       "295                Other                Other  Death Report, Natural Causes\n",
       "...                  ...                  ...                           ...\n",
       "328836             Other                Other   Death Report, Cause Unknown\n",
       "329162             Other                Other  Death Report, Natural Causes\n",
       "329189             Other                Other   Death Report, Cause Unknown\n",
       "329359             Other                Other   Death Report, Cause Unknown\n",
       "329387             Other                Other   Death Report, Cause Unknown\n",
       "\n",
       "[2160 rows x 3 columns]"
      ]
     },
     "execution_count": 148,
     "metadata": {},
     "output_type": "execute_result"
    }
   ],
   "source": [
    "reports2[['incident_category', 'incident_subcategory', 'incident_description']][reports2['incident_category']=='Other'] "
   ]
  },
  {
   "cell_type": "markdown",
   "metadata": {},
   "source": [
    "Non-violent"
   ]
  },
  {
   "cell_type": "code",
   "execution_count": null,
   "metadata": {},
   "outputs": [],
   "source": []
  },
  {
   "cell_type": "markdown",
   "metadata": {},
   "source": [
    "### Preprocessing\n",
    "\n",
    "We will convert longitude and latitude to zipcodes."
   ]
  },
  {
   "cell_type": "code",
   "execution_count": 149,
   "metadata": {
    "scrolled": true
   },
   "outputs": [
    {
     "data": {
      "text/html": [
       "<div>\n",
       "<style scoped>\n",
       "    .dataframe tbody tr th:only-of-type {\n",
       "        vertical-align: middle;\n",
       "    }\n",
       "\n",
       "    .dataframe tbody tr th {\n",
       "        vertical-align: top;\n",
       "    }\n",
       "\n",
       "    .dataframe thead th {\n",
       "        text-align: right;\n",
       "    }\n",
       "</style>\n",
       "<table border=\"1\" class=\"dataframe\">\n",
       "  <thead>\n",
       "    <tr style=\"text-align: right;\">\n",
       "      <th></th>\n",
       "      <th>latitude</th>\n",
       "      <th>longitude</th>\n",
       "    </tr>\n",
       "  </thead>\n",
       "  <tbody>\n",
       "    <tr>\n",
       "      <th>0</th>\n",
       "      <td>37.762569</td>\n",
       "      <td>-122.499627</td>\n",
       "    </tr>\n",
       "    <tr>\n",
       "      <th>1</th>\n",
       "      <td>37.780535</td>\n",
       "      <td>-122.408161</td>\n",
       "    </tr>\n",
       "    <tr>\n",
       "      <th>4</th>\n",
       "      <td>37.797716</td>\n",
       "      <td>-122.430559</td>\n",
       "    </tr>\n",
       "    <tr>\n",
       "      <th>5</th>\n",
       "      <td>37.785829</td>\n",
       "      <td>-122.401490</td>\n",
       "    </tr>\n",
       "    <tr>\n",
       "      <th>6</th>\n",
       "      <td>37.782488</td>\n",
       "      <td>-122.445821</td>\n",
       "    </tr>\n",
       "    <tr>\n",
       "      <th>...</th>\n",
       "      <td>...</td>\n",
       "      <td>...</td>\n",
       "    </tr>\n",
       "    <tr>\n",
       "      <th>329464</th>\n",
       "      <td>37.780927</td>\n",
       "      <td>-122.413676</td>\n",
       "    </tr>\n",
       "    <tr>\n",
       "      <th>329465</th>\n",
       "      <td>37.766406</td>\n",
       "      <td>-122.424258</td>\n",
       "    </tr>\n",
       "    <tr>\n",
       "      <th>329466</th>\n",
       "      <td>37.759830</td>\n",
       "      <td>-122.425920</td>\n",
       "    </tr>\n",
       "    <tr>\n",
       "      <th>329467</th>\n",
       "      <td>37.726132</td>\n",
       "      <td>-122.464573</td>\n",
       "    </tr>\n",
       "    <tr>\n",
       "      <th>329468</th>\n",
       "      <td>37.784449</td>\n",
       "      <td>-122.416072</td>\n",
       "    </tr>\n",
       "  </tbody>\n",
       "</table>\n",
       "<p>271378 rows × 2 columns</p>\n",
       "</div>"
      ],
      "text/plain": [
       "         latitude   longitude\n",
       "0       37.762569 -122.499627\n",
       "1       37.780535 -122.408161\n",
       "4       37.797716 -122.430559\n",
       "5       37.785829 -122.401490\n",
       "6       37.782488 -122.445821\n",
       "...           ...         ...\n",
       "329464  37.780927 -122.413676\n",
       "329465  37.766406 -122.424258\n",
       "329466  37.759830 -122.425920\n",
       "329467  37.726132 -122.464573\n",
       "329468  37.784449 -122.416072\n",
       "\n",
       "[271378 rows x 2 columns]"
      ]
     },
     "execution_count": 149,
     "metadata": {},
     "output_type": "execute_result"
    }
   ],
   "source": [
    "reports[['latitude', 'longitude']]"
   ]
  },
  {
   "cell_type": "code",
   "execution_count": 150,
   "metadata": {},
   "outputs": [],
   "source": [
    "reports['geometry'] = reports.apply(lambda row: Point(row['longitude'], row['latitude']), axis=1)"
   ]
  },
  {
   "cell_type": "code",
   "execution_count": 151,
   "metadata": {},
   "outputs": [],
   "source": [
    "geo_police_data = geopandas.GeoDataFrame(reports, geometry='geometry')\n",
    "geo_police_data.crs = {'init': 'epsg:4326'}"
   ]
  },
  {
   "cell_type": "code",
   "execution_count": 152,
   "metadata": {},
   "outputs": [],
   "source": [
    "sf = geopandas.read_file('../data/zipcodes.json')\n",
    "sf.crs = {'init': 'epsg:4326'}\n",
    "sf = sf.set_geometry('geometry')"
   ]
  },
  {
   "cell_type": "code",
   "execution_count": 153,
   "metadata": {},
   "outputs": [],
   "source": [
    "reports = geopandas.tools.sjoin(geo_police_data, sf, how='left')"
   ]
  },
  {
   "cell_type": "code",
   "execution_count": 154,
   "metadata": {},
   "outputs": [
    {
     "data": {
      "text/plain": [
       "incident_date             0\n",
       "incident_time             0\n",
       "incident_year             0\n",
       "incident_day_of_week      0\n",
       "report_type               0\n",
       "incident_category         0\n",
       "resolution                0\n",
       "police_district           0\n",
       "analysis_neighborhood     0\n",
       "latitude                  0\n",
       "longitude                 0\n",
       "supervisor_districts      0\n",
       "hsoc_zones                0\n",
       "geometry                  0\n",
       "index_right              70\n",
       "zip_code                 70\n",
       "zip                      70\n",
       "st_area_sh               70\n",
       "sqmi                     70\n",
       "state                    70\n",
       "pop10_sqmi               70\n",
       "st_length_               70\n",
       "objectid                 70\n",
       "po_name                  70\n",
       "pop2010                  70\n",
       "id                       70\n",
       "multigeom                70\n",
       "dtype: int64"
      ]
     },
     "execution_count": 154,
     "metadata": {},
     "output_type": "execute_result"
    }
   ],
   "source": [
    "reports.isnull().sum()"
   ]
  },
  {
   "cell_type": "code",
   "execution_count": 155,
   "metadata": {},
   "outputs": [
    {
     "data": {
      "text/plain": [
       "0    94122\n",
       "1    94103\n",
       "4    94123\n",
       "5    94103\n",
       "6    94115\n",
       "Name: zip, dtype: object"
      ]
     },
     "execution_count": 155,
     "metadata": {},
     "output_type": "execute_result"
    }
   ],
   "source": [
    "reports['zip'].head()"
   ]
  },
  {
   "cell_type": "code",
   "execution_count": 156,
   "metadata": {},
   "outputs": [],
   "source": [
    "final_reports=reports[['incident_date', 'incident_day_of_week', 'incident_time', 'zip']]"
   ]
  },
  {
   "cell_type": "code",
   "execution_count": 157,
   "metadata": {},
   "outputs": [
    {
     "name": "stderr",
     "output_type": "stream",
     "text": [
      "C:\\Users\\elton\\Anaconda3\\lib\\site-packages\\pandas\\core\\indexing.py:1047: SettingWithCopyWarning: \n",
      "A value is trying to be set on a copy of a slice from a DataFrame.\n",
      "Try using .loc[row_indexer,col_indexer] = value instead\n",
      "\n",
      "See the caveats in the documentation: https://pandas.pydata.org/pandas-docs/stable/user_guide/indexing.html#returning-a-view-versus-a-copy\n",
      "  self.obj[item_labels[indexer[info_axis]]] = value\n",
      "C:\\Users\\elton\\Anaconda3\\lib\\site-packages\\pandas\\core\\indexing.py:844: SettingWithCopyWarning: \n",
      "A value is trying to be set on a copy of a slice from a DataFrame.\n",
      "Try using .loc[row_indexer,col_indexer] = value instead\n",
      "\n",
      "See the caveats in the documentation: https://pandas.pydata.org/pandas-docs/stable/user_guide/indexing.html#returning-a-view-versus-a-copy\n",
      "  self.obj[key] = _infer_fill_value(value)\n",
      "C:\\Users\\elton\\Anaconda3\\lib\\site-packages\\pandas\\core\\indexing.py:965: SettingWithCopyWarning: \n",
      "A value is trying to be set on a copy of a slice from a DataFrame.\n",
      "Try using .loc[row_indexer,col_indexer] = value instead\n",
      "\n",
      "See the caveats in the documentation: https://pandas.pydata.org/pandas-docs/stable/user_guide/indexing.html#returning-a-view-versus-a-copy\n",
      "  self.obj[item] = s\n"
     ]
    }
   ],
   "source": [
    "final_reports.loc[:, 'incident_date'] = pd.to_datetime(final_reports['incident_date'])\n",
    "final_reports.loc[:, 'incident_hour'] = pd.to_datetime(final_reports['incident_time'])\n",
    "#final_reports.loc[:, 'incident_hour'] = final_reports.incident_hour.apply(lambda x: x.hour)"
   ]
  },
  {
   "cell_type": "code",
   "execution_count": 158,
   "metadata": {},
   "outputs": [
    {
     "data": {
      "text/html": [
       "<div>\n",
       "<style scoped>\n",
       "    .dataframe tbody tr th:only-of-type {\n",
       "        vertical-align: middle;\n",
       "    }\n",
       "\n",
       "    .dataframe tbody tr th {\n",
       "        vertical-align: top;\n",
       "    }\n",
       "\n",
       "    .dataframe thead th {\n",
       "        text-align: right;\n",
       "    }\n",
       "</style>\n",
       "<table border=\"1\" class=\"dataframe\">\n",
       "  <thead>\n",
       "    <tr style=\"text-align: right;\">\n",
       "      <th></th>\n",
       "      <th>incident_date</th>\n",
       "      <th>incident_day_of_week</th>\n",
       "      <th>incident_time</th>\n",
       "      <th>zip</th>\n",
       "      <th>incident_hour</th>\n",
       "    </tr>\n",
       "  </thead>\n",
       "  <tbody>\n",
       "    <tr>\n",
       "      <th>0</th>\n",
       "      <td>2019-05-01</td>\n",
       "      <td>Wednesday</td>\n",
       "      <td>01:00</td>\n",
       "      <td>94122</td>\n",
       "      <td>2020-04-09 01:00:00</td>\n",
       "    </tr>\n",
       "    <tr>\n",
       "      <th>1</th>\n",
       "      <td>2019-06-22</td>\n",
       "      <td>Saturday</td>\n",
       "      <td>07:45</td>\n",
       "      <td>94103</td>\n",
       "      <td>2020-04-09 07:45:00</td>\n",
       "    </tr>\n",
       "    <tr>\n",
       "      <th>4</th>\n",
       "      <td>2019-05-27</td>\n",
       "      <td>Monday</td>\n",
       "      <td>02:25</td>\n",
       "      <td>94123</td>\n",
       "      <td>2020-04-09 02:25:00</td>\n",
       "    </tr>\n",
       "    <tr>\n",
       "      <th>5</th>\n",
       "      <td>2018-11-07</td>\n",
       "      <td>Wednesday</td>\n",
       "      <td>03:50</td>\n",
       "      <td>94103</td>\n",
       "      <td>2020-04-09 03:50:00</td>\n",
       "    </tr>\n",
       "    <tr>\n",
       "      <th>6</th>\n",
       "      <td>2019-08-15</td>\n",
       "      <td>Thursday</td>\n",
       "      <td>12:45</td>\n",
       "      <td>94115</td>\n",
       "      <td>2020-04-09 12:45:00</td>\n",
       "    </tr>\n",
       "  </tbody>\n",
       "</table>\n",
       "</div>"
      ],
      "text/plain": [
       "  incident_date incident_day_of_week incident_time    zip       incident_hour\n",
       "0    2019-05-01            Wednesday         01:00  94122 2020-04-09 01:00:00\n",
       "1    2019-06-22             Saturday         07:45  94103 2020-04-09 07:45:00\n",
       "4    2019-05-27               Monday         02:25  94123 2020-04-09 02:25:00\n",
       "5    2018-11-07            Wednesday         03:50  94103 2020-04-09 03:50:00\n",
       "6    2019-08-15             Thursday         12:45  94115 2020-04-09 12:45:00"
      ]
     },
     "execution_count": 158,
     "metadata": {},
     "output_type": "execute_result"
    }
   ],
   "source": [
    "final_reports.head()"
   ]
  },
  {
   "cell_type": "code",
   "execution_count": 159,
   "metadata": {},
   "outputs": [
    {
     "name": "stdout",
     "output_type": "stream",
     "text": [
      "<class 'geopandas.geodataframe.GeoDataFrame'>\n",
      "Int64Index: 271378 entries, 0 to 329468\n",
      "Data columns (total 28 columns):\n",
      " #   Column                 Non-Null Count   Dtype   \n",
      "---  ------                 --------------   -----   \n",
      " 0   incident_date          271378 non-null  object  \n",
      " 1   incident_time          271378 non-null  object  \n",
      " 2   incident_year          271378 non-null  int64   \n",
      " 3   incident_day_of_week   271378 non-null  object  \n",
      " 4   report_type            271378 non-null  object  \n",
      " 5   incident_category      271378 non-null  object  \n",
      " 6   resolution             271378 non-null  object  \n",
      " 7   police_district        271378 non-null  object  \n",
      " 8   analysis_neighborhood  271378 non-null  object  \n",
      " 9   latitude               271378 non-null  float64 \n",
      " 10  longitude              271378 non-null  float64 \n",
      " 11  supervisor_districts   271378 non-null  float64 \n",
      " 12  hsoc_zones             271378 non-null  float64 \n",
      " 13  geometry               271378 non-null  geometry\n",
      " 14  index_right            271308 non-null  float64 \n",
      " 15  zip_code               271308 non-null  object  \n",
      " 16  zip                    271308 non-null  object  \n",
      " 17  st_area_sh             271308 non-null  object  \n",
      " 18  sqmi                   271308 non-null  object  \n",
      " 19  state                  271308 non-null  object  \n",
      " 20  pop10_sqmi             271308 non-null  object  \n",
      " 21  st_length_             271308 non-null  object  \n",
      " 22  objectid               271308 non-null  object  \n",
      " 23  po_name                271308 non-null  object  \n",
      " 24  pop2010                271308 non-null  object  \n",
      " 25  id                     271308 non-null  object  \n",
      " 26  multigeom              271308 non-null  object  \n",
      " 27  crimes                 271378 non-null  int64   \n",
      "dtypes: float64(5), geometry(1), int64(2), object(20)\n",
      "memory usage: 60.0+ MB\n"
     ]
    }
   ],
   "source": [
    "reports.loc[:, 'crimes']=1\n",
    "\n",
    "reports.info()"
   ]
  },
  {
   "cell_type": "code",
   "execution_count": null,
   "metadata": {},
   "outputs": [],
   "source": []
  },
  {
   "cell_type": "code",
   "execution_count": null,
   "metadata": {},
   "outputs": [],
   "source": []
  }
 ],
 "metadata": {
  "kernelspec": {
   "display_name": "Python 3",
   "language": "python",
   "name": "python3"
  },
  "language_info": {
   "codemirror_mode": {
    "name": "ipython",
    "version": 3
   },
   "file_extension": ".py",
   "mimetype": "text/x-python",
   "name": "python",
   "nbconvert_exporter": "python",
   "pygments_lexer": "ipython3",
   "version": "3.7.4"
  }
 },
 "nbformat": 4,
 "nbformat_minor": 2
}
