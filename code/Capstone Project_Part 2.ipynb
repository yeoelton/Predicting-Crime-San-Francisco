{
 "cells": [
  {
   "cell_type": "markdown",
   "metadata": {},
   "source": [
    "### Capstone Project: Understanding and Predicting Crime in San Francisco, Part 2\n",
    "\n",
    "by Elton Yeo, DSI13"
   ]
  },
  {
   "cell_type": "markdown",
   "metadata": {},
   "source": [
    "In this section, we will predict the number of preventable crime given a specific date, day of the week, and hour, which will help the police plan their patrol schedules and resources. Police patrols are important because they project presence, which can deter criminals and increase the sense of safety for residents."
   ]
  },
  {
   "cell_type": "markdown",
   "metadata": {},
   "source": [
    "#### Contents:\n",
    "- [Preprocessing](#Preprocessing)\n",
    "- [Modelling](#Modelling)\n",
    "- [Conclusion and Recommendations](#Conclusion-and-Recommendations)\n",
    "- [Next Steps](#Next-Steps)"
   ]
  },
  {
   "cell_type": "code",
   "execution_count": 162,
   "metadata": {},
   "outputs": [],
   "source": [
    "import pandas as pd\n",
    "import numpy as np\n",
    "import seaborn as sns\n",
    "import matplotlib.pyplot as plt\n",
    "\n",
    "import geopandas\n",
    "from shapely.geometry import Point\n",
    "from pygeocoder import Geocoder\n",
    "\n",
    "from sklearn.linear_model import Ridge, Lasso, ElasticNet, LinearRegression, RidgeCV, LassoCV, ElasticNetCV\n",
    "from sklearn.model_selection import cross_val_score, KFold, train_test_split, GridSearchCV, RandomizedSearchCV\n",
    "from sklearn.preprocessing import StandardScaler\n",
    "from sklearn.metrics import r2_score, mean_squared_error\n",
    "from sklearn import metrics\n",
    "\n",
    "from sklearn.ensemble import RandomForestRegressor\n",
    "from xgboost import XGBRegressor\n",
    "\n",
    "%matplotlib inline"
   ]
  },
  {
   "cell_type": "markdown",
   "metadata": {},
   "source": [
    "### Preprocessing"
   ]
  },
  {
   "cell_type": "markdown",
   "metadata": {},
   "source": [
    "#### Keeping preventable_crime only\n",
    "\n",
    "As detailed in Part 1, such crimes are preventable with increased security presence and/or surveillance (whether through Police, community, and to a lesser extent, cameras) because they happen out in the open or can be easily observed. For example, robbery, burglary or snatch theft are less likely to occur if there is strong security presence in the area, because the culprit knows that he/she could be easily caught immediately after committing the crime. Areas with higher numbers of such crime would easily benefit from increased police patrols or community and tech surveillance measures.\n",
    "\n",
    "Since the aim is to help police districts priortize their patrol resources, we will only predict the number of preventable crime given a specific zipcode, day of the week, and hour. "
   ]
  },
  {
   "cell_type": "code",
   "execution_count": 163,
   "metadata": {},
   "outputs": [],
   "source": [
    "#read in cleaned dataset\n",
    "final_reports=pd.read_csv('../data/reports_cleaned.csv')"
   ]
  },
  {
   "cell_type": "code",
   "execution_count": 164,
   "metadata": {},
   "outputs": [],
   "source": [
    "#extracting the necessary variables\n",
    "final_reports=final_reports[['incident_date', 'incident_day_of_week', \n",
    "                       'incident_time', 'zip', 'incident_category']]"
   ]
  },
  {
   "cell_type": "code",
   "execution_count": 165,
   "metadata": {},
   "outputs": [
    {
     "data": {
      "text/html": [
       "<div>\n",
       "<style scoped>\n",
       "    .dataframe tbody tr th:only-of-type {\n",
       "        vertical-align: middle;\n",
       "    }\n",
       "\n",
       "    .dataframe tbody tr th {\n",
       "        vertical-align: top;\n",
       "    }\n",
       "\n",
       "    .dataframe thead th {\n",
       "        text-align: right;\n",
       "    }\n",
       "</style>\n",
       "<table border=\"1\" class=\"dataframe\">\n",
       "  <thead>\n",
       "    <tr style=\"text-align: right;\">\n",
       "      <th></th>\n",
       "      <th>incident_date</th>\n",
       "      <th>incident_day_of_week</th>\n",
       "      <th>incident_time</th>\n",
       "      <th>zip</th>\n",
       "      <th>incident_category</th>\n",
       "    </tr>\n",
       "  </thead>\n",
       "  <tbody>\n",
       "    <tr>\n",
       "      <th>0</th>\n",
       "      <td>2019/05/01</td>\n",
       "      <td>Wednesday</td>\n",
       "      <td>01:00</td>\n",
       "      <td>94122</td>\n",
       "      <td>preventable_crime</td>\n",
       "    </tr>\n",
       "    <tr>\n",
       "      <th>1</th>\n",
       "      <td>2019/06/22</td>\n",
       "      <td>Saturday</td>\n",
       "      <td>07:45</td>\n",
       "      <td>94103</td>\n",
       "      <td>non_violent_crime</td>\n",
       "    </tr>\n",
       "    <tr>\n",
       "      <th>2</th>\n",
       "      <td>2019/05/27</td>\n",
       "      <td>Monday</td>\n",
       "      <td>02:25</td>\n",
       "      <td>94123</td>\n",
       "      <td>violent_crime</td>\n",
       "    </tr>\n",
       "    <tr>\n",
       "      <th>3</th>\n",
       "      <td>2018/11/07</td>\n",
       "      <td>Wednesday</td>\n",
       "      <td>03:50</td>\n",
       "      <td>94103</td>\n",
       "      <td>preventable_crime</td>\n",
       "    </tr>\n",
       "    <tr>\n",
       "      <th>4</th>\n",
       "      <td>2019/08/15</td>\n",
       "      <td>Thursday</td>\n",
       "      <td>12:45</td>\n",
       "      <td>94115</td>\n",
       "      <td>preventable_crime</td>\n",
       "    </tr>\n",
       "  </tbody>\n",
       "</table>\n",
       "</div>"
      ],
      "text/plain": [
       "  incident_date incident_day_of_week incident_time    zip  incident_category\n",
       "0    2019/05/01            Wednesday         01:00  94122  preventable_crime\n",
       "1    2019/06/22             Saturday         07:45  94103  non_violent_crime\n",
       "2    2019/05/27               Monday         02:25  94123      violent_crime\n",
       "3    2018/11/07            Wednesday         03:50  94103  preventable_crime\n",
       "4    2019/08/15             Thursday         12:45  94115  preventable_crime"
      ]
     },
     "execution_count": 165,
     "metadata": {},
     "output_type": "execute_result"
    }
   ],
   "source": [
    "#checking our dataframe\n",
    "final_reports.head()"
   ]
  },
  {
   "cell_type": "code",
   "execution_count": 166,
   "metadata": {},
   "outputs": [
    {
     "data": {
      "text/plain": [
       "preventable_crime     154868\n",
       "non_violent_crime      75722\n",
       "violent_crime          20316\n",
       "white_collar_crime      9959\n",
       "drug_crime              7648\n",
       "Name: incident_category, dtype: int64"
      ]
     },
     "execution_count": 166,
     "metadata": {},
     "output_type": "execute_result"
    }
   ],
   "source": [
    "#confirming the current number of each incident category\n",
    "final_reports.incident_category.value_counts()"
   ]
  },
  {
   "cell_type": "code",
   "execution_count": 167,
   "metadata": {},
   "outputs": [],
   "source": [
    "#keeping only preventable crime\n",
    "final_reports=final_reports[final_reports.incident_category == 'preventable_crime']"
   ]
  },
  {
   "cell_type": "code",
   "execution_count": 168,
   "metadata": {},
   "outputs": [
    {
     "data": {
      "text/plain": [
       "preventable_crime    154868\n",
       "Name: incident_category, dtype: int64"
      ]
     },
     "execution_count": 168,
     "metadata": {},
     "output_type": "execute_result"
    }
   ],
   "source": [
    "#confirming that only preventable crimes are left \n",
    "final_reports.incident_category.value_counts()"
   ]
  },
  {
   "cell_type": "code",
   "execution_count": 169,
   "metadata": {},
   "outputs": [],
   "source": [
    "#replacing string with '1' for processing later\n",
    "final_reports.incident_category.replace({'preventable_crime': 1},\n",
    "                                       inplace=True)"
   ]
  },
  {
   "cell_type": "code",
   "execution_count": 170,
   "metadata": {},
   "outputs": [],
   "source": [
    "#renaming  incident_category column to preventable_crime\n",
    "final_reports.rename({'incident_category': 'preventable_crime'}, axis=1, inplace=True)"
   ]
  },
  {
   "cell_type": "code",
   "execution_count": 171,
   "metadata": {},
   "outputs": [
    {
     "data": {
      "text/html": [
       "<div>\n",
       "<style scoped>\n",
       "    .dataframe tbody tr th:only-of-type {\n",
       "        vertical-align: middle;\n",
       "    }\n",
       "\n",
       "    .dataframe tbody tr th {\n",
       "        vertical-align: top;\n",
       "    }\n",
       "\n",
       "    .dataframe thead th {\n",
       "        text-align: right;\n",
       "    }\n",
       "</style>\n",
       "<table border=\"1\" class=\"dataframe\">\n",
       "  <thead>\n",
       "    <tr style=\"text-align: right;\">\n",
       "      <th></th>\n",
       "      <th>incident_date</th>\n",
       "      <th>incident_day_of_week</th>\n",
       "      <th>incident_time</th>\n",
       "      <th>zip</th>\n",
       "      <th>preventable_crime</th>\n",
       "    </tr>\n",
       "  </thead>\n",
       "  <tbody>\n",
       "    <tr>\n",
       "      <th>0</th>\n",
       "      <td>2019/05/01</td>\n",
       "      <td>Wednesday</td>\n",
       "      <td>01:00</td>\n",
       "      <td>94122</td>\n",
       "      <td>1</td>\n",
       "    </tr>\n",
       "    <tr>\n",
       "      <th>3</th>\n",
       "      <td>2018/11/07</td>\n",
       "      <td>Wednesday</td>\n",
       "      <td>03:50</td>\n",
       "      <td>94103</td>\n",
       "      <td>1</td>\n",
       "    </tr>\n",
       "    <tr>\n",
       "      <th>4</th>\n",
       "      <td>2019/08/15</td>\n",
       "      <td>Thursday</td>\n",
       "      <td>12:45</td>\n",
       "      <td>94115</td>\n",
       "      <td>1</td>\n",
       "    </tr>\n",
       "    <tr>\n",
       "      <th>9</th>\n",
       "      <td>2019/02/27</td>\n",
       "      <td>Wednesday</td>\n",
       "      <td>15:30</td>\n",
       "      <td>94111</td>\n",
       "      <td>1</td>\n",
       "    </tr>\n",
       "    <tr>\n",
       "      <th>11</th>\n",
       "      <td>2019/04/08</td>\n",
       "      <td>Monday</td>\n",
       "      <td>00:30</td>\n",
       "      <td>94115</td>\n",
       "      <td>1</td>\n",
       "    </tr>\n",
       "  </tbody>\n",
       "</table>\n",
       "</div>"
      ],
      "text/plain": [
       "   incident_date incident_day_of_week incident_time    zip  preventable_crime\n",
       "0     2019/05/01            Wednesday         01:00  94122                  1\n",
       "3     2018/11/07            Wednesday         03:50  94103                  1\n",
       "4     2019/08/15             Thursday         12:45  94115                  1\n",
       "9     2019/02/27            Wednesday         15:30  94111                  1\n",
       "11    2019/04/08               Monday         00:30  94115                  1"
      ]
     },
     "execution_count": 171,
     "metadata": {},
     "output_type": "execute_result"
    }
   ],
   "source": [
    "#confirming our edits to the dataframe\n",
    "final_reports.head()"
   ]
  },
  {
   "cell_type": "markdown",
   "metadata": {},
   "source": [
    "#### Converting date and time to appropriate format and values"
   ]
  },
  {
   "cell_type": "code",
   "execution_count": 172,
   "metadata": {},
   "outputs": [],
   "source": [
    "#converting incident_date to datetime format\n",
    "final_reports.loc[:, 'incident_date'] = pd.to_datetime(final_reports['incident_date'])\n",
    "\n",
    "#keeping only the year in incident_date for processing later\n",
    "final_reports.loc[:, 'incident_date'] = final_reports.incident_date.apply(lambda x: x.year)\n",
    "\n",
    "#creating new columne incident_hour by converting incident_time to datetime format\n",
    "final_reports.loc[:, 'incident_hour'] = pd.to_datetime(final_reports['incident_time'])\n",
    "\n",
    "#keeping only the hour in incident_hour\n",
    "final_reports.loc[:, 'incident_hour'] = final_reports.incident_hour.apply(lambda x: x.hour)"
   ]
  },
  {
   "cell_type": "code",
   "execution_count": 173,
   "metadata": {
    "scrolled": true
   },
   "outputs": [
    {
     "data": {
      "text/html": [
       "<div>\n",
       "<style scoped>\n",
       "    .dataframe tbody tr th:only-of-type {\n",
       "        vertical-align: middle;\n",
       "    }\n",
       "\n",
       "    .dataframe tbody tr th {\n",
       "        vertical-align: top;\n",
       "    }\n",
       "\n",
       "    .dataframe thead th {\n",
       "        text-align: right;\n",
       "    }\n",
       "</style>\n",
       "<table border=\"1\" class=\"dataframe\">\n",
       "  <thead>\n",
       "    <tr style=\"text-align: right;\">\n",
       "      <th></th>\n",
       "      <th>incident_date</th>\n",
       "      <th>incident_day_of_week</th>\n",
       "      <th>incident_time</th>\n",
       "      <th>zip</th>\n",
       "      <th>preventable_crime</th>\n",
       "      <th>incident_hour</th>\n",
       "    </tr>\n",
       "  </thead>\n",
       "  <tbody>\n",
       "    <tr>\n",
       "      <th>0</th>\n",
       "      <td>2019</td>\n",
       "      <td>Wednesday</td>\n",
       "      <td>01:00</td>\n",
       "      <td>94122</td>\n",
       "      <td>1</td>\n",
       "      <td>1</td>\n",
       "    </tr>\n",
       "    <tr>\n",
       "      <th>3</th>\n",
       "      <td>2018</td>\n",
       "      <td>Wednesday</td>\n",
       "      <td>03:50</td>\n",
       "      <td>94103</td>\n",
       "      <td>1</td>\n",
       "      <td>3</td>\n",
       "    </tr>\n",
       "    <tr>\n",
       "      <th>4</th>\n",
       "      <td>2019</td>\n",
       "      <td>Thursday</td>\n",
       "      <td>12:45</td>\n",
       "      <td>94115</td>\n",
       "      <td>1</td>\n",
       "      <td>12</td>\n",
       "    </tr>\n",
       "    <tr>\n",
       "      <th>9</th>\n",
       "      <td>2019</td>\n",
       "      <td>Wednesday</td>\n",
       "      <td>15:30</td>\n",
       "      <td>94111</td>\n",
       "      <td>1</td>\n",
       "      <td>15</td>\n",
       "    </tr>\n",
       "    <tr>\n",
       "      <th>11</th>\n",
       "      <td>2019</td>\n",
       "      <td>Monday</td>\n",
       "      <td>00:30</td>\n",
       "      <td>94115</td>\n",
       "      <td>1</td>\n",
       "      <td>0</td>\n",
       "    </tr>\n",
       "  </tbody>\n",
       "</table>\n",
       "</div>"
      ],
      "text/plain": [
       "    incident_date incident_day_of_week incident_time    zip  \\\n",
       "0            2019            Wednesday         01:00  94122   \n",
       "3            2018            Wednesday         03:50  94103   \n",
       "4            2019             Thursday         12:45  94115   \n",
       "9            2019            Wednesday         15:30  94111   \n",
       "11           2019               Monday         00:30  94115   \n",
       "\n",
       "    preventable_crime  incident_hour  \n",
       "0                   1              1  \n",
       "3                   1              3  \n",
       "4                   1             12  \n",
       "9                   1             15  \n",
       "11                  1              0  "
      ]
     },
     "execution_count": 173,
     "metadata": {},
     "output_type": "execute_result"
    }
   ],
   "source": [
    "#confirming our edits to the dataframe\n",
    "final_reports.head()"
   ]
  },
  {
   "cell_type": "markdown",
   "metadata": {},
   "source": [
    "#### Splitting into train and test datasets\n",
    "\n",
    "We will use 2018 data as our training data, and 2019 data as our testing data. We will ignore all 2020 data. "
   ]
  },
  {
   "cell_type": "code",
   "execution_count": 174,
   "metadata": {},
   "outputs": [
    {
     "data": {
      "text/plain": [
       "2018    71444\n",
       "2019    70277\n",
       "2020    13147\n",
       "Name: incident_date, dtype: int64"
      ]
     },
     "execution_count": 174,
     "metadata": {},
     "output_type": "execute_result"
    }
   ],
   "source": [
    "#checking split of data by year\n",
    "final_reports.incident_date.value_counts()"
   ]
  },
  {
   "cell_type": "code",
   "execution_count": 175,
   "metadata": {},
   "outputs": [
    {
     "name": "stderr",
     "output_type": "stream",
     "text": [
      "C:\\Users\\elton\\Anaconda3\\lib\\site-packages\\pandas\\core\\frame.py:3997: SettingWithCopyWarning: \n",
      "A value is trying to be set on a copy of a slice from a DataFrame\n",
      "\n",
      "See the caveats in the documentation: https://pandas.pydata.org/pandas-docs/stable/user_guide/indexing.html#returning-a-view-versus-a-copy\n",
      "  errors=errors,\n"
     ]
    }
   ],
   "source": [
    "#splitting into train and test datasets\n",
    "train=final_reports[final_reports.incident_date == 2018]\n",
    "test=final_reports[final_reports.incident_date == 2019]\n",
    "\n",
    "#dropping incident_date column from both datasets\n",
    "train.drop('incident_date', axis=1, inplace=True)\n",
    "test.drop('incident_date', axis=1, inplace=True)"
   ]
  },
  {
   "cell_type": "code",
   "execution_count": 176,
   "metadata": {},
   "outputs": [
    {
     "data": {
      "text/plain": [
       "(71444, 5)"
      ]
     },
     "execution_count": 176,
     "metadata": {},
     "output_type": "execute_result"
    }
   ],
   "source": [
    "#confirming number of rows in train dataset\n",
    "train.shape"
   ]
  },
  {
   "cell_type": "code",
   "execution_count": 177,
   "metadata": {},
   "outputs": [
    {
     "data": {
      "text/plain": [
       "(70277, 5)"
      ]
     },
     "execution_count": 177,
     "metadata": {},
     "output_type": "execute_result"
    }
   ],
   "source": [
    "#confirming number of rows in test dataset\n",
    "test.shape"
   ]
  },
  {
   "cell_type": "code",
   "execution_count": 178,
   "metadata": {},
   "outputs": [],
   "source": [
    "#grouping the number of preventable_crime by day of week, zipcode, and hour of day in train dataset\n",
    "train=train.groupby(['incident_day_of_week', 'zip', 'incident_hour']).sum().reset_index()"
   ]
  },
  {
   "cell_type": "code",
   "execution_count": 179,
   "metadata": {
    "scrolled": true
   },
   "outputs": [
    {
     "data": {
      "text/html": [
       "<div>\n",
       "<style scoped>\n",
       "    .dataframe tbody tr th:only-of-type {\n",
       "        vertical-align: middle;\n",
       "    }\n",
       "\n",
       "    .dataframe tbody tr th {\n",
       "        vertical-align: top;\n",
       "    }\n",
       "\n",
       "    .dataframe thead th {\n",
       "        text-align: right;\n",
       "    }\n",
       "</style>\n",
       "<table border=\"1\" class=\"dataframe\">\n",
       "  <thead>\n",
       "    <tr style=\"text-align: right;\">\n",
       "      <th></th>\n",
       "      <th>incident_day_of_week</th>\n",
       "      <th>zip</th>\n",
       "      <th>incident_hour</th>\n",
       "      <th>preventable_crime</th>\n",
       "    </tr>\n",
       "  </thead>\n",
       "  <tbody>\n",
       "    <tr>\n",
       "      <th>2480</th>\n",
       "      <td>Thursday</td>\n",
       "      <td>94103</td>\n",
       "      <td>19</td>\n",
       "      <td>114</td>\n",
       "    </tr>\n",
       "    <tr>\n",
       "      <th>44</th>\n",
       "      <td>Friday</td>\n",
       "      <td>94103</td>\n",
       "      <td>20</td>\n",
       "      <td>108</td>\n",
       "    </tr>\n",
       "    <tr>\n",
       "      <th>1274</th>\n",
       "      <td>Saturday</td>\n",
       "      <td>94103</td>\n",
       "      <td>23</td>\n",
       "      <td>107</td>\n",
       "    </tr>\n",
       "    <tr>\n",
       "      <th>43</th>\n",
       "      <td>Friday</td>\n",
       "      <td>94103</td>\n",
       "      <td>19</td>\n",
       "      <td>107</td>\n",
       "    </tr>\n",
       "    <tr>\n",
       "      <th>3701</th>\n",
       "      <td>Wednesday</td>\n",
       "      <td>94103</td>\n",
       "      <td>19</td>\n",
       "      <td>93</td>\n",
       "    </tr>\n",
       "  </tbody>\n",
       "</table>\n",
       "</div>"
      ],
      "text/plain": [
       "     incident_day_of_week    zip  incident_hour  preventable_crime\n",
       "2480             Thursday  94103             19                114\n",
       "44                 Friday  94103             20                108\n",
       "1274             Saturday  94103             23                107\n",
       "43                 Friday  94103             19                107\n",
       "3701            Wednesday  94103             19                 93"
      ]
     },
     "execution_count": 179,
     "metadata": {},
     "output_type": "execute_result"
    }
   ],
   "source": [
    "#viewing by highest number of preventable_crime to lowest\n",
    "train.sort_values('preventable_crime', ascending=False).head()"
   ]
  },
  {
   "cell_type": "code",
   "execution_count": 180,
   "metadata": {},
   "outputs": [],
   "source": [
    "#grouping the number of preventable_crime by day of week, zipcode, and hour of day in test dataset\n",
    "test=test.groupby(['incident_day_of_week', 'zip', 'incident_hour']).sum().reset_index()"
   ]
  },
  {
   "cell_type": "code",
   "execution_count": 181,
   "metadata": {},
   "outputs": [
    {
     "data": {
      "text/html": [
       "<div>\n",
       "<style scoped>\n",
       "    .dataframe tbody tr th:only-of-type {\n",
       "        vertical-align: middle;\n",
       "    }\n",
       "\n",
       "    .dataframe tbody tr th {\n",
       "        vertical-align: top;\n",
       "    }\n",
       "\n",
       "    .dataframe thead th {\n",
       "        text-align: right;\n",
       "    }\n",
       "</style>\n",
       "<table border=\"1\" class=\"dataframe\">\n",
       "  <thead>\n",
       "    <tr style=\"text-align: right;\">\n",
       "      <th></th>\n",
       "      <th>incident_day_of_week</th>\n",
       "      <th>zip</th>\n",
       "      <th>incident_hour</th>\n",
       "      <th>preventable_crime</th>\n",
       "    </tr>\n",
       "  </thead>\n",
       "  <tbody>\n",
       "    <tr>\n",
       "      <th>3078</th>\n",
       "      <td>Tuesday</td>\n",
       "      <td>94103</td>\n",
       "      <td>18</td>\n",
       "      <td>92</td>\n",
       "    </tr>\n",
       "    <tr>\n",
       "      <th>1967</th>\n",
       "      <td>Sunday</td>\n",
       "      <td>94109</td>\n",
       "      <td>0</td>\n",
       "      <td>89</td>\n",
       "    </tr>\n",
       "    <tr>\n",
       "      <th>42</th>\n",
       "      <td>Friday</td>\n",
       "      <td>94103</td>\n",
       "      <td>18</td>\n",
       "      <td>88</td>\n",
       "    </tr>\n",
       "    <tr>\n",
       "      <th>12</th>\n",
       "      <td>Friday</td>\n",
       "      <td>94102</td>\n",
       "      <td>12</td>\n",
       "      <td>87</td>\n",
       "    </tr>\n",
       "    <tr>\n",
       "      <th>3669</th>\n",
       "      <td>Wednesday</td>\n",
       "      <td>94102</td>\n",
       "      <td>18</td>\n",
       "      <td>86</td>\n",
       "    </tr>\n",
       "  </tbody>\n",
       "</table>\n",
       "</div>"
      ],
      "text/plain": [
       "     incident_day_of_week    zip  incident_hour  preventable_crime\n",
       "3078              Tuesday  94103             18                 92\n",
       "1967               Sunday  94109              0                 89\n",
       "42                 Friday  94103             18                 88\n",
       "12                 Friday  94102             12                 87\n",
       "3669            Wednesday  94102             18                 86"
      ]
     },
     "execution_count": 181,
     "metadata": {},
     "output_type": "execute_result"
    }
   ],
   "source": [
    "#viewing by highest number of preventable_crime to lowest\n",
    "test.sort_values('preventable_crime', ascending=False).head()"
   ]
  },
  {
   "cell_type": "code",
   "execution_count": 182,
   "metadata": {},
   "outputs": [],
   "source": [
    "#save data to csv\n",
    "train.to_csv('../data/train.csv', index=False)\n",
    "test.to_csv('../data/test.csv', index=False)"
   ]
  },
  {
   "cell_type": "code",
   "execution_count": 183,
   "metadata": {},
   "outputs": [
    {
     "data": {
      "text/plain": [
       "(4268, 56)"
      ]
     },
     "execution_count": 183,
     "metadata": {},
     "output_type": "execute_result"
    }
   ],
   "source": [
    "#getting dummies from categorical data so that they can be processed by models\n",
    "train = pd.get_dummies(train, columns = ['incident_day_of_week', 'zip', 'incident_hour'], drop_first=True)\n",
    "\n",
    "#confirming that dummies have been created by checking the number of columns\n",
    "train.shape"
   ]
  },
  {
   "cell_type": "code",
   "execution_count": 184,
   "metadata": {},
   "outputs": [
    {
     "data": {
      "text/plain": [
       "(4262, 56)"
      ]
     },
     "execution_count": 184,
     "metadata": {},
     "output_type": "execute_result"
    }
   ],
   "source": [
    "#getting dummies from categorical data so that they can be processed by models\n",
    "test = pd.get_dummies(test, columns = ['incident_day_of_week', 'zip', 'incident_hour'], drop_first=True)\n",
    "\n",
    "#confirming that dummies have been created by checking the number of columns\n",
    "test.shape"
   ]
  },
  {
   "cell_type": "markdown",
   "metadata": {},
   "source": [
    "### Modelling\n",
    "\n",
    "We will use 5 regression models: linear regression, lassoCV,  ridgeCV, random forest with gridsearchCV, and XGBoost with gridsearchCV. \n",
    "\n",
    "We will establish a baseline mean squared error (MSE) score. All 5 models should have MSE scores that are lower than the baseline. This means that the models produced predictions which had a closer fit to the data. \n",
    "\n",
    "Among the 5 models, we will choose the best model by comparing r-squared scores. The higher the r-squared score, the better. R-squared also shows how close the data are to the fitted regression line; it is the percentage of the response variable variation that is explained by a model i.e. Explained variation / Total variation.\n",
    "- 0% indicates that the model explains none of the variability of the response data around its mean.\n",
    "- 100% indicates that the model explains all the variability of the response data around its mean.\n",
    "\n",
    "For the final model which is chosen and used to predict from the test data, success is defined as:\n",
    "- a MSE score higher than the baseline, which means that predictions had a closer fit to  the data than the baseline, and \n",
    "- a r-squared score of 0.8 and above, which means that the model explains 80% of the variability of the response data that is predictable from the independent variables.\n",
    "\n",
    "#### Creating our train/test split and scaling"
   ]
  },
  {
   "cell_type": "code",
   "execution_count": 185,
   "metadata": {},
   "outputs": [],
   "source": [
    "#create our features matrix X and target vector y\n",
    "X = train.drop(['preventable_crime'], axis=1)\n",
    "y = train['preventable_crime']\n",
    "\n",
    "#train/test split\n",
    "X_train, X_test, y_train, y_test = train_test_split(X, y, random_state=42)\n",
    "\n",
    "#scaling\n",
    "ss = StandardScaler()\n",
    "ss.fit(X_train)\n",
    "X_train_sc = ss.transform(X_train)\n",
    "X_test_sc = ss.transform(X_test) "
   ]
  },
  {
   "cell_type": "markdown",
   "metadata": {},
   "source": [
    "#### Baseline Mean Squared Error (MSE) score"
   ]
  },
  {
   "cell_type": "code",
   "execution_count": 186,
   "metadata": {
    "scrolled": false
   },
   "outputs": [
    {
     "data": {
      "text/html": [
       "<div>\n",
       "<style scoped>\n",
       "    .dataframe tbody tr th:only-of-type {\n",
       "        vertical-align: middle;\n",
       "    }\n",
       "\n",
       "    .dataframe tbody tr th {\n",
       "        vertical-align: top;\n",
       "    }\n",
       "\n",
       "    .dataframe thead th {\n",
       "        text-align: right;\n",
       "    }\n",
       "</style>\n",
       "<table border=\"1\" class=\"dataframe\">\n",
       "  <thead>\n",
       "    <tr style=\"text-align: right;\">\n",
       "      <th></th>\n",
       "      <th>preventable_crime</th>\n",
       "      <th>baseline</th>\n",
       "    </tr>\n",
       "  </thead>\n",
       "  <tbody>\n",
       "    <tr>\n",
       "      <th>1702</th>\n",
       "      <td>1</td>\n",
       "      <td>16.863168</td>\n",
       "    </tr>\n",
       "    <tr>\n",
       "      <th>1173</th>\n",
       "      <td>23</td>\n",
       "      <td>16.863168</td>\n",
       "    </tr>\n",
       "    <tr>\n",
       "      <th>308</th>\n",
       "      <td>12</td>\n",
       "      <td>16.863168</td>\n",
       "    </tr>\n",
       "    <tr>\n",
       "      <th>1322</th>\n",
       "      <td>13</td>\n",
       "      <td>16.863168</td>\n",
       "    </tr>\n",
       "    <tr>\n",
       "      <th>2570</th>\n",
       "      <td>21</td>\n",
       "      <td>16.863168</td>\n",
       "    </tr>\n",
       "  </tbody>\n",
       "</table>\n",
       "</div>"
      ],
      "text/plain": [
       "      preventable_crime   baseline\n",
       "1702                  1  16.863168\n",
       "1173                 23  16.863168\n",
       "308                  12  16.863168\n",
       "1322                 13  16.863168\n",
       "2570                 21  16.863168"
      ]
     },
     "execution_count": 186,
     "metadata": {},
     "output_type": "execute_result"
    }
   ],
   "source": [
    "#creating dataframe with number of preventable_crime and mean of preventable_crime as the baseline\n",
    "base_df= pd.DataFrame(y_test)\n",
    "base_df['baseline']= np.mean(y_test)\n",
    "base_df.head()"
   ]
  },
  {
   "cell_type": "code",
   "execution_count": 187,
   "metadata": {},
   "outputs": [
    {
     "data": {
      "text/plain": [
       "247.07780927176287"
      ]
     },
     "execution_count": 187,
     "metadata": {},
     "output_type": "execute_result"
    }
   ],
   "source": [
    "#calculating baseline MSE score\n",
    "mean_squared_error(y_true=base_df.preventable_crime, y_pred=base_df.baseline)"
   ]
  },
  {
   "cell_type": "markdown",
   "metadata": {},
   "source": [
    "#### Linear Regression"
   ]
  },
  {
   "cell_type": "code",
   "execution_count": 188,
   "metadata": {},
   "outputs": [
    {
     "data": {
      "text/plain": [
       "0.7630160928049994"
      ]
     },
     "execution_count": 188,
     "metadata": {},
     "output_type": "execute_result"
    }
   ],
   "source": [
    "#instantiate our model\n",
    "lr = LinearRegression()\n",
    "\n",
    "#finding r-squared scores for linear regression\n",
    "lr_score = cross_val_score(lr, X_train_sc, y_train, cv=10)\n",
    "lr_score.mean()"
   ]
  },
  {
   "cell_type": "code",
   "execution_count": 189,
   "metadata": {},
   "outputs": [
    {
     "data": {
      "text/plain": [
       "0.7334677625814559"
      ]
     },
     "execution_count": 189,
     "metadata": {},
     "output_type": "execute_result"
    }
   ],
   "source": [
    "#fitting to our model\n",
    "lr.fit(X_train_sc, y_train)\n",
    "\n",
    "#finding r-squared scores for linear regression on X_test_sc\n",
    "lr.score(X_test_sc, y_test)"
   ]
  },
  {
   "cell_type": "code",
   "execution_count": 190,
   "metadata": {},
   "outputs": [
    {
     "data": {
      "text/plain": [
       "65.85420132167526"
      ]
     },
     "execution_count": 190,
     "metadata": {},
     "output_type": "execute_result"
    }
   ],
   "source": [
    "#using model to predict from X_test\n",
    "y_pred_lr=lr.predict(X_test_sc)\n",
    "\n",
    "#finding mse for linear regression\n",
    "mean_squared_error(y_test, y_pred_lr)"
   ]
  },
  {
   "cell_type": "markdown",
   "metadata": {},
   "source": [
    "#### LassoCV"
   ]
  },
  {
   "cell_type": "code",
   "execution_count": 191,
   "metadata": {
    "scrolled": true
   },
   "outputs": [
    {
     "name": "stderr",
     "output_type": "stream",
     "text": [
      "C:\\Users\\elton\\Anaconda3\\lib\\site-packages\\sklearn\\model_selection\\_split.py:1978: FutureWarning: The default value of cv will change from 3 to 5 in version 0.22. Specify it explicitly to silence this warning.\n",
      "  warnings.warn(CV_WARNING, FutureWarning)\n",
      "C:\\Users\\elton\\Anaconda3\\lib\\site-packages\\sklearn\\model_selection\\_split.py:1978: FutureWarning: The default value of cv will change from 3 to 5 in version 0.22. Specify it explicitly to silence this warning.\n",
      "  warnings.warn(CV_WARNING, FutureWarning)\n"
     ]
    },
    {
     "data": {
      "text/plain": [
       "0.7647805078966549"
      ]
     },
     "execution_count": 191,
     "metadata": {},
     "output_type": "execute_result"
    }
   ],
   "source": [
    "#instantiate our model and find optimal alpha\n",
    "lasso = LassoCV(n_alphas=500)\n",
    "\n",
    "#fitting to lasso\n",
    "lasso.fit(X_train_sc, y_train)\n",
    "\n",
    "#input optimal alpha\n",
    "lasso_opt = Lasso(lasso.alpha_)\n",
    "\n",
    "#finding r-squared scores for lasso\n",
    "lasso_score = cross_val_score(lasso_opt, X_train_sc, y_train)\n",
    "lasso_score.mean()"
   ]
  },
  {
   "cell_type": "code",
   "execution_count": 192,
   "metadata": {},
   "outputs": [
    {
     "data": {
      "text/plain": [
       "0.7340243991880419"
      ]
     },
     "execution_count": 192,
     "metadata": {},
     "output_type": "execute_result"
    }
   ],
   "source": [
    "#fitting to lasso with optimal alpha\n",
    "lasso_opt.fit(X_train_sc, y_train)\n",
    "\n",
    "#finding r-squared scores for lasso on X_test_sc\n",
    "lasso_opt.score(X_test_sc, y_test)"
   ]
  },
  {
   "cell_type": "code",
   "execution_count": 193,
   "metadata": {},
   "outputs": [
    {
     "data": {
      "text/plain": [
       "65.71666876835954"
      ]
     },
     "execution_count": 193,
     "metadata": {},
     "output_type": "execute_result"
    }
   ],
   "source": [
    "#using model to predict from X_test\n",
    "y_pred_lasso=lasso_opt.predict(X_test_sc)\n",
    "\n",
    "#finding mse for lasso \n",
    "mean_squared_error(y_test, y_pred_lasso)"
   ]
  },
  {
   "cell_type": "markdown",
   "metadata": {},
   "source": [
    "#### RidgeCV"
   ]
  },
  {
   "cell_type": "code",
   "execution_count": 194,
   "metadata": {},
   "outputs": [
    {
     "name": "stderr",
     "output_type": "stream",
     "text": [
      "C:\\Users\\elton\\Anaconda3\\lib\\site-packages\\sklearn\\model_selection\\_split.py:1978: FutureWarning: The default value of cv will change from 3 to 5 in version 0.22. Specify it explicitly to silence this warning.\n",
      "  warnings.warn(CV_WARNING, FutureWarning)\n"
     ]
    },
    {
     "data": {
      "text/plain": [
       "0.7647855711923855"
      ]
     },
     "execution_count": 194,
     "metadata": {},
     "output_type": "execute_result"
    }
   ],
   "source": [
    "#instantiate our model and find optimal alpha\n",
    "ridge_alphas=np.logspace(0, 5, 200)\n",
    "ridge = RidgeCV(alphas=ridge_alphas)\n",
    "\n",
    "#fitting to ridge\n",
    "ridge.fit(X_train_sc, y_train)\n",
    "\n",
    "#input optimal alpha\n",
    "ridge_opt= Ridge(alpha=ridge.alpha_)\n",
    "\n",
    "#finding r-squared scores for ridge on X_train_sc\n",
    "ridge_score = cross_val_score(ridge_opt, X_train_sc, y_train)\n",
    "ridge_score.mean()"
   ]
  },
  {
   "cell_type": "code",
   "execution_count": 195,
   "metadata": {},
   "outputs": [
    {
     "data": {
      "text/plain": [
       "0.7336498682232815"
      ]
     },
     "execution_count": 195,
     "metadata": {},
     "output_type": "execute_result"
    }
   ],
   "source": [
    "#fitting to ridge with optimal alpha\n",
    "ridge_opt.fit(X_train_sc, y_train)\n",
    "\n",
    "#finding r-squared scores for ridge on X_test_sc\n",
    "ridge_opt.score(X_test_sc, y_test)"
   ]
  },
  {
   "cell_type": "code",
   "execution_count": 196,
   "metadata": {},
   "outputs": [
    {
     "data": {
      "text/plain": [
       "65.80920705863697"
      ]
     },
     "execution_count": 196,
     "metadata": {},
     "output_type": "execute_result"
    }
   ],
   "source": [
    "#using model to predict from X_test\n",
    "y_pred_ridge=ridge_opt.predict(X_test_sc)\n",
    "\n",
    "#finding mse for ridge\n",
    "mean_squared_error(y_test, y_pred_ridge)"
   ]
  },
  {
   "cell_type": "markdown",
   "metadata": {},
   "source": [
    "#### Random Forest with GridSearchCV"
   ]
  },
  {
   "cell_type": "code",
   "execution_count": 197,
   "metadata": {},
   "outputs": [
    {
     "name": "stderr",
     "output_type": "stream",
     "text": [
      "C:\\Users\\elton\\Anaconda3\\lib\\site-packages\\sklearn\\model_selection\\_split.py:1978: FutureWarning: The default value of cv will change from 3 to 5 in version 0.22. Specify it explicitly to silence this warning.\n",
      "  warnings.warn(CV_WARNING, FutureWarning)\n",
      "[Parallel(n_jobs=1)]: Using backend SequentialBackend with 1 concurrent workers.\n"
     ]
    },
    {
     "name": "stdout",
     "output_type": "stream",
     "text": [
      "Fitting 3 folds for each of 125 candidates, totalling 375 fits\n"
     ]
    },
    {
     "name": "stderr",
     "output_type": "stream",
     "text": [
      "[Parallel(n_jobs=1)]: Done 375 out of 375 | elapsed:   48.2s finished\n"
     ]
    },
    {
     "data": {
      "text/plain": [
       "GridSearchCV(cv='warn', error_score='raise-deprecating',\n",
       "             estimator=RandomForestRegressor(bootstrap=True, criterion='mse',\n",
       "                                             max_depth=None,\n",
       "                                             max_features='auto',\n",
       "                                             max_leaf_nodes=None,\n",
       "                                             min_impurity_decrease=0.0,\n",
       "                                             min_impurity_split=None,\n",
       "                                             min_samples_leaf=1,\n",
       "                                             min_samples_split=2,\n",
       "                                             min_weight_fraction_leaf=0.0,\n",
       "                                             n_estimators='warn', n_jobs=None,\n",
       "                                             oob_score=False, random_state=None,\n",
       "                                             verbose=0, warm_start=False),\n",
       "             iid='warn', n_jobs=None,\n",
       "             param_grid={'max_depth': array([25, 26, 27, 28, 29]),\n",
       "                         'min_samples_split': [2, 4, 6, 8, 10],\n",
       "                         'n_estimators': array([15, 16, 17, 18, 19])},\n",
       "             pre_dispatch='2*n_jobs', refit=True, return_train_score=False,\n",
       "             scoring=None, verbose=1)"
      ]
     },
     "execution_count": 197,
     "metadata": {},
     "output_type": "execute_result"
    }
   ],
   "source": [
    "#determining range of hyperparamters\n",
    "rf_parameters={\n",
    "        'max_depth': np.arange(25, 30),\n",
    "        'n_estimators': np.arange(15, 20),\n",
    "        'min_samples_split': [2,4,6,8,10]\n",
    "}\n",
    "\n",
    "#instantiate our model\n",
    "rf=GridSearchCV(RandomForestRegressor(), \n",
    "                      rf_parameters,\n",
    "                      verbose=1)\n",
    "\n",
    "#fitting our data to our model\n",
    "rf.fit(X_train_sc, y_train)"
   ]
  },
  {
   "cell_type": "code",
   "execution_count": 198,
   "metadata": {},
   "outputs": [
    {
     "data": {
      "text/plain": [
       "0.7399085155978893"
      ]
     },
     "execution_count": 198,
     "metadata": {},
     "output_type": "execute_result"
    }
   ],
   "source": [
    "#best r2 score from GridsearchCV\n",
    "rf.best_score_"
   ]
  },
  {
   "cell_type": "code",
   "execution_count": 199,
   "metadata": {},
   "outputs": [
    {
     "data": {
      "text/plain": [
       "0.8063700091695774"
      ]
     },
     "execution_count": 199,
     "metadata": {},
     "output_type": "execute_result"
    }
   ],
   "source": [
    "#using best hyperparameters to get r2 score on X_test_sc and y_test\n",
    "best_rf=rf.best_estimator_\n",
    "best_rf.score(X_test_sc, y_test)"
   ]
  },
  {
   "cell_type": "code",
   "execution_count": 200,
   "metadata": {},
   "outputs": [
    {
     "data": {
      "text/plain": [
       "47.84167394369236"
      ]
     },
     "execution_count": 200,
     "metadata": {},
     "output_type": "execute_result"
    }
   ],
   "source": [
    "#using model to predict from X_test\n",
    "y_pred_rf=best_rf.predict(X_test_sc)\n",
    "\n",
    "#finding mse for random forest model with best hyperparameters\n",
    "mean_squared_error(y_test, y_pred_rf)"
   ]
  },
  {
   "cell_type": "markdown",
   "metadata": {},
   "source": [
    "#### XGBoost with GridSearchCV"
   ]
  },
  {
   "cell_type": "code",
   "execution_count": 201,
   "metadata": {},
   "outputs": [
    {
     "name": "stderr",
     "output_type": "stream",
     "text": [
      "C:\\Users\\elton\\Anaconda3\\lib\\site-packages\\sklearn\\model_selection\\_split.py:1978: FutureWarning: The default value of cv will change from 3 to 5 in version 0.22. Specify it explicitly to silence this warning.\n",
      "  warnings.warn(CV_WARNING, FutureWarning)\n",
      "[Parallel(n_jobs=1)]: Using backend SequentialBackend with 1 concurrent workers.\n"
     ]
    },
    {
     "name": "stdout",
     "output_type": "stream",
     "text": [
      "Fitting 3 folds for each of 48 candidates, totalling 144 fits\n"
     ]
    },
    {
     "name": "stderr",
     "output_type": "stream",
     "text": [
      "[Parallel(n_jobs=1)]: Done 144 out of 144 | elapsed:  3.1min finished\n"
     ]
    },
    {
     "data": {
      "text/plain": [
       "GridSearchCV(cv='warn', error_score='raise-deprecating',\n",
       "             estimator=XGBRegressor(base_score=None, booster=None,\n",
       "                                    colsample_bylevel=None,\n",
       "                                    colsample_bynode=None,\n",
       "                                    colsample_bytree=None, gamma=None,\n",
       "                                    gpu_id=None, importance_type='gain',\n",
       "                                    interaction_constraints=None,\n",
       "                                    learning_rate=None, max_delta_step=None,\n",
       "                                    max_depth=None, min_child_weight=None,\n",
       "                                    missing=nan, monotone_cons...\n",
       "                                    objective='reg:squarederror',\n",
       "                                    random_state=None, reg_alpha=None,\n",
       "                                    reg_lambda=None, scale_pos_weight=None,\n",
       "                                    subsample=None, tree_method=None,\n",
       "                                    validate_parameters=False, verbosity=None),\n",
       "             iid='warn', n_jobs=None,\n",
       "             param_grid={'learning_rate': [0.2, 0.4, 0.6, 0.8],\n",
       "                         'max_depth': [1, 3, 5, 7],\n",
       "                         'n_estimators': [500, 550, 600]},\n",
       "             pre_dispatch='2*n_jobs', refit=True, return_train_score=False,\n",
       "             scoring=None, verbose=1)"
      ]
     },
     "execution_count": 201,
     "metadata": {},
     "output_type": "execute_result"
    }
   ],
   "source": [
    "#determining range of hyperparamters\n",
    "xgb_parameters={\n",
    "        'max_depth': [1,3,5,7],\n",
    "        'n_estimators': [500, 550, 600], \n",
    "        'learning_rate': [0.2, 0.4, 0.6, 0.8]\n",
    "}\n",
    "\n",
    "#instantiate our model\n",
    "xgb=GridSearchCV(XGBRegressor(), \n",
    "                      xgb_parameters,\n",
    "                      verbose=1)\n",
    "\n",
    "#fitting our data to our model\n",
    "xgb.fit(X_train_sc, y_train)"
   ]
  },
  {
   "cell_type": "code",
   "execution_count": 202,
   "metadata": {},
   "outputs": [
    {
     "data": {
      "text/plain": [
       "0.8298653572877429"
      ]
     },
     "execution_count": 202,
     "metadata": {},
     "output_type": "execute_result"
    }
   ],
   "source": [
    "#best r2 score from GridsearchCV\n",
    "xgb.best_score_"
   ]
  },
  {
   "cell_type": "code",
   "execution_count": 203,
   "metadata": {},
   "outputs": [
    {
     "data": {
      "text/plain": [
       "0.8451533929561439"
      ]
     },
     "execution_count": 203,
     "metadata": {},
     "output_type": "execute_result"
    }
   ],
   "source": [
    "#using best hyperparameters to get r2 score on X_test_sc and y_test\n",
    "best_xgb=xgb.best_estimator_\n",
    "best_xgb.score(X_test_sc, y_test)"
   ]
  },
  {
   "cell_type": "code",
   "execution_count": 204,
   "metadata": {},
   "outputs": [
    {
     "data": {
      "text/plain": [
       "38.259160441561505"
      ]
     },
     "execution_count": 204,
     "metadata": {},
     "output_type": "execute_result"
    }
   ],
   "source": [
    "#using model to predict from X_test\n",
    "y_pred_xgb=best_xgb.predict(X_test_sc)\n",
    "\n",
    "#finding mse for XGBoost model with best hyperparameters\n",
    "mean_squared_error(y_test, y_pred_xgb)"
   ]
  },
  {
   "cell_type": "markdown",
   "metadata": {},
   "source": [
    "#### Final model predicton and evaluation\n",
    "\n",
    "Among our five models, XGBoost had the lowest MSE score of 38 (beating the baseline of 247) and the highest r-squared score of 0.85 when predicting from X_test of our train set which contains 2018 data. \n",
    "\n",
    "We will proceed to use this XGBoost model with best hyperparameters to predict and score our test set which contains 2019 data. "
   ]
  },
  {
   "cell_type": "code",
   "execution_count": 205,
   "metadata": {},
   "outputs": [],
   "source": [
    "#creating X and y from our test set\n",
    "X_valid = test.drop(['preventable_crime'], axis=1)\n",
    "y_valid = test['preventable_crime']\n",
    "\n",
    "#scaling X_valid_sc according to X_train\n",
    "X_valid_sc = ss.transform(X_valid)"
   ]
  },
  {
   "cell_type": "code",
   "execution_count": 206,
   "metadata": {},
   "outputs": [
    {
     "data": {
      "text/plain": [
       "0.8022793805526838"
      ]
     },
     "execution_count": 206,
     "metadata": {},
     "output_type": "execute_result"
    }
   ],
   "source": [
    "#using best hyperparameters to get r2 score on X_valid_sc and y_valid\n",
    "best_xgb.score(X_valid_sc, y_valid)"
   ]
  },
  {
   "cell_type": "code",
   "execution_count": 207,
   "metadata": {},
   "outputs": [
    {
     "data": {
      "text/plain": [
       "43.95442581927804"
      ]
     },
     "execution_count": 207,
     "metadata": {},
     "output_type": "execute_result"
    }
   ],
   "source": [
    "#using model to predict from X_valid\n",
    "y_pred_xgb2=best_xgb.predict(X_valid_sc)\n",
    "\n",
    "#finding mse for XGBoost model with best hyperparameters\n",
    "mean_squared_error(y_valid, y_pred_xgb2)"
   ]
  },
  {
   "cell_type": "markdown",
   "metadata": {},
   "source": [
    "Using the test data, our final model had a MSE score of 44 (beating the baseline of 247) and a r-squared score of 0.80, which means that the model explains 80% of the variability of the response data that is predictable from the independent variables."
   ]
  },
  {
   "cell_type": "markdown",
   "metadata": {},
   "source": [
    "#### Understanding Feature Importance"
   ]
  },
  {
   "cell_type": "code",
   "execution_count": 208,
   "metadata": {},
   "outputs": [
    {
     "data": {
      "text/plain": [
       "<matplotlib.axes._subplots.AxesSubplot at 0x154a4fc8248>"
      ]
     },
     "execution_count": 208,
     "metadata": {},
     "output_type": "execute_result"
    },
    {
     "data": {
      "image/png": "[encoded data removed]",
      "text/plain": [
       "<Figure size 576x432 with 1 Axes>"
      ]
     },
     "metadata": {
      "needs_background": "light"
     },
     "output_type": "display_data"
    }
   ],
   "source": [
    "#creating dataframe with independent variables and corresponding importance in our final model\n",
    "feat_impt=pd.DataFrame({'Features': X.columns,\n",
    "             'Feature Importance': best_xgb.feature_importances_\n",
    "             }).sort_values('Feature Importance', ascending=False).head(15)\n",
    "\n",
    "#plotting feature importance\n",
    "feat_impt.plot.barh(x='Features', figsize=(8,6))"
   ]
  },
  {
   "cell_type": "markdown",
   "metadata": {},
   "source": [
    "The above bar graphs shows that zipcodes were of the highest importance in predicting the number of preventable crime given the day of week, hour of the day, and zipcode. \n",
    "\n",
    "It would be worth further investigating the characteristics of the various zipcodes which may have contributed to the number of preventable crimes in each zipcode and the variance across zipcodes. "
   ]
  },
  {
   "cell_type": "markdown",
   "metadata": {},
   "source": [
    "#### Residual Plot\n",
    "\n",
    "The difference between the observed value of the dependent variable (y) and the predicted value (ŷ) is called the residual. A residual plot is a graph that shows the residuals on the vertical axis and the independent variable on the horizontal axis. \n",
    "\n",
    "Our residual plot for the predicted values generated by our final model from our test data shows that most of the differences between the true number of preventable crime and predicted number of preventable crime are clustered around 0, which indicates that our model is generally working. But at higher values of preventable crime, the model did not do as well as it did at lower values of preventable crime. This could likely be improved by gathering more data to train our model on. "
   ]
  },
  {
   "cell_type": "code",
   "execution_count": 209,
   "metadata": {},
   "outputs": [
    {
     "data": {
      "image/png": "[encoded data removed]",
      "text/plain": [
       "<Figure size 864x576 with 1 Axes>"
      ]
     },
     "metadata": {
      "needs_background": "light"
     },
     "output_type": "display_data"
    }
   ],
   "source": [
    "#residual plot\n",
    "xgb_resid = y_valid - best_xgb.predict(X_valid_sc)\n",
    "\n",
    "#Set figure size, title, x and y labels\n",
    "plt.figure(figsize=(12,8))\n",
    "plt.title('Residuals against number of preventable crimes')\n",
    "plt.ylabel('Residuals')\n",
    "plt.xlabel('Number of preventable crimes')\n",
    "\n",
    "#Plot the scatter of residuals against the true values of sale price\n",
    "plt.scatter(y=xgb_resid, x=y_valid, c='r')\n",
    "\n",
    "#Plot the line y=0\n",
    "plt.plot([np.min(y_valid),np.max(y_valid)],[0,0], c='k');"
   ]
  },
  {
   "cell_type": "markdown",
   "metadata": {},
   "source": [
    "### Conclusion and Recommendations"
   ]
  },
  {
   "cell_type": "markdown",
   "metadata": {},
   "source": [
    "#### Objective 1: Understanding different types of crime in San Francisco\n",
    "\n",
    "The aim was to develop insights into the areas with the most crimes, and consider policy and operational measures which might help to bring down crime in those areas based on those insights.\n",
    "\n",
    "We learnt that:\n",
    "- zipcode 94111 had the highest number of total and preventable crime per capita in all of SF city. This zipcode corresponds with Embarcadero and the Financial District, which houses mainly offices and shopping malls. \n",
    "- zipcode 94103 had the highest number of violent, non-violent and drug crime per capita in all of SF city. This zipcode corresponds with parts of the Tenderloin neighborhood, which is notorious for gangs and drug crime. It is unsurprising that it has the highest number of such crime per capita. (https://en.wikipedia.org/wiki/Tenderloin,_San_Francisco) \n",
    "- zipcode 94104 had the highest number of white-collar crime per capita in all of SF city. This zipcode corresponds with a small area of offices in the financial district. Based on GoogleMaps, it appears that only office buildings are found within that zipcode, which might explain why white-collar crime per capita is the highest there, compared with other zipcodes which have a mix of building types e.g. malls, shops, residential. \n",
    "\n",
    "These insights are useful for the SF mayor, Police Commanders and district supervisors, and are the starting point for further investigation and analysis to finetune policies and operational methods. For example, within 94104, we could consider which buildings contributed to the most white-collar crime, why, and how to address the specific cause. Across zipcodes which have similar building demographics e.g. 94112 and 94134 which both mainly comprise residential buildings, we could ask why 94134 has almost two times the number of violent crime, and consider if measures implemented in 94112 could be implemented in 94134 as well. We could also consider diverting more resources in addressing drug crime to zipcode 94103, or set up a dedicated drug crime taskforce there. "
   ]
  },
  {
   "cell_type": "markdown",
   "metadata": {},
   "source": [
    "#### Objective 2: Predicting the number of preventable crime in San Francisco\n",
    "\n",
    "The aim was to predict the number of preventable crime given a specific zipcode, day of the week, and hour, which will help the police plan their patrol schedules and resources. We managed to predict the number of preventable crime well using the XGBoost model, with a r-squared score of 0.8.\n",
    "\n",
    "Police patrols are important because they project presence, which can deter criminals and increase the sense of safety for residents.\n",
    "\n",
    "We will consider some actual steps that the San Francisco Police can take using the predicted numbers. "
   ]
  },
  {
   "cell_type": "code",
   "execution_count": 210,
   "metadata": {},
   "outputs": [],
   "source": [
    "#read in test dataset again\n",
    "test2=pd.read_csv('../data/test.csv')"
   ]
  },
  {
   "cell_type": "code",
   "execution_count": 211,
   "metadata": {},
   "outputs": [],
   "source": [
    "#add column of predicted number of preventable crime to test dataset\n",
    "test2['xgb_predict']=y_pred_xgb2"
   ]
  },
  {
   "cell_type": "markdown",
   "metadata": {},
   "source": [
    "There are approximately 52 weeks in a year, which means 52 days of each week. We will divide our number of crimes (both actual and predicted) by 52. This will tell us the predicted number of preventable crime on that particular day of the week, at that particular hour and zipcode. "
   ]
  },
  {
   "cell_type": "code",
   "execution_count": 212,
   "metadata": {},
   "outputs": [],
   "source": [
    "#divide actual and predicted number of crimes by 52\n",
    "test2.preventable_crime=test2.preventable_crime/52\n",
    "test2.xgb_predict=test2.xgb_predict/52"
   ]
  },
  {
   "cell_type": "code",
   "execution_count": 213,
   "metadata": {},
   "outputs": [
    {
     "data": {
      "text/html": [
       "<div>\n",
       "<style scoped>\n",
       "    .dataframe tbody tr th:only-of-type {\n",
       "        vertical-align: middle;\n",
       "    }\n",
       "\n",
       "    .dataframe tbody tr th {\n",
       "        vertical-align: top;\n",
       "    }\n",
       "\n",
       "    .dataframe thead th {\n",
       "        text-align: right;\n",
       "    }\n",
       "</style>\n",
       "<table border=\"1\" class=\"dataframe\">\n",
       "  <thead>\n",
       "    <tr style=\"text-align: right;\">\n",
       "      <th></th>\n",
       "      <th>incident_day_of_week</th>\n",
       "      <th>zip</th>\n",
       "      <th>incident_hour</th>\n",
       "      <th>preventable_crime</th>\n",
       "      <th>xgb_predict</th>\n",
       "    </tr>\n",
       "  </thead>\n",
       "  <tbody>\n",
       "    <tr>\n",
       "      <th>2470</th>\n",
       "      <td>Thursday</td>\n",
       "      <td>94103</td>\n",
       "      <td>19</td>\n",
       "      <td>1.326923</td>\n",
       "      <td>1.907094</td>\n",
       "    </tr>\n",
       "    <tr>\n",
       "      <th>1260</th>\n",
       "      <td>Saturday</td>\n",
       "      <td>94103</td>\n",
       "      <td>19</td>\n",
       "      <td>1.269231</td>\n",
       "      <td>1.876870</td>\n",
       "    </tr>\n",
       "    <tr>\n",
       "      <th>43</th>\n",
       "      <td>Friday</td>\n",
       "      <td>94103</td>\n",
       "      <td>19</td>\n",
       "      <td>1.615385</td>\n",
       "      <td>1.858716</td>\n",
       "    </tr>\n",
       "    <tr>\n",
       "      <th>3079</th>\n",
       "      <td>Tuesday</td>\n",
       "      <td>94103</td>\n",
       "      <td>19</td>\n",
       "      <td>1.250000</td>\n",
       "      <td>1.791903</td>\n",
       "    </tr>\n",
       "    <tr>\n",
       "      <th>1259</th>\n",
       "      <td>Saturday</td>\n",
       "      <td>94103</td>\n",
       "      <td>18</td>\n",
       "      <td>1.480769</td>\n",
       "      <td>1.787161</td>\n",
       "    </tr>\n",
       "    <tr>\n",
       "      <th>1871</th>\n",
       "      <td>Sunday</td>\n",
       "      <td>94103</td>\n",
       "      <td>19</td>\n",
       "      <td>1.038462</td>\n",
       "      <td>1.766315</td>\n",
       "    </tr>\n",
       "    <tr>\n",
       "      <th>3694</th>\n",
       "      <td>Wednesday</td>\n",
       "      <td>94103</td>\n",
       "      <td>19</td>\n",
       "      <td>1.596154</td>\n",
       "      <td>1.757343</td>\n",
       "    </tr>\n",
       "    <tr>\n",
       "      <th>1261</th>\n",
       "      <td>Saturday</td>\n",
       "      <td>94103</td>\n",
       "      <td>20</td>\n",
       "      <td>1.480769</td>\n",
       "      <td>1.690898</td>\n",
       "    </tr>\n",
       "    <tr>\n",
       "      <th>648</th>\n",
       "      <td>Monday</td>\n",
       "      <td>94103</td>\n",
       "      <td>19</td>\n",
       "      <td>1.307692</td>\n",
       "      <td>1.676706</td>\n",
       "    </tr>\n",
       "    <tr>\n",
       "      <th>3078</th>\n",
       "      <td>Tuesday</td>\n",
       "      <td>94103</td>\n",
       "      <td>18</td>\n",
       "      <td>1.769231</td>\n",
       "      <td>1.623973</td>\n",
       "    </tr>\n",
       "  </tbody>\n",
       "</table>\n",
       "</div>"
      ],
      "text/plain": [
       "     incident_day_of_week    zip  incident_hour  preventable_crime  \\\n",
       "2470             Thursday  94103             19           1.326923   \n",
       "1260             Saturday  94103             19           1.269231   \n",
       "43                 Friday  94103             19           1.615385   \n",
       "3079              Tuesday  94103             19           1.250000   \n",
       "1259             Saturday  94103             18           1.480769   \n",
       "1871               Sunday  94103             19           1.038462   \n",
       "3694            Wednesday  94103             19           1.596154   \n",
       "1261             Saturday  94103             20           1.480769   \n",
       "648                Monday  94103             19           1.307692   \n",
       "3078              Tuesday  94103             18           1.769231   \n",
       "\n",
       "      xgb_predict  \n",
       "2470     1.907094  \n",
       "1260     1.876870  \n",
       "43       1.858716  \n",
       "3079     1.791903  \n",
       "1259     1.787161  \n",
       "1871     1.766315  \n",
       "3694     1.757343  \n",
       "1261     1.690898  \n",
       "648      1.676706  \n",
       "3078     1.623973  "
      ]
     },
     "execution_count": 213,
     "metadata": {},
     "output_type": "execute_result"
    }
   ],
   "source": [
    "#viewing by highest number of predicted preventable crime to lowest\n",
    "test2.sort_values('xgb_predict', ascending=False).head(10)"
   ]
  },
  {
   "cell_type": "markdown",
   "metadata": {},
   "source": [
    "Based on the above table, the San Francisco police can expect approximately 1 to 2 crimes to take place in the evening hours (6 to 8pm) of most days (with Saturday being a bit more frequent) at zipcode 94103. Therefore, they should send more resources to patrol zipcode 94103 during such evening hours to prevent such crime from taking place, and calibrate their resources for other zipcodes, days of the week, and hours accordingly. "
   ]
  },
  {
   "cell_type": "markdown",
   "metadata": {},
   "source": [
    "### Next Steps"
   ]
  },
  {
   "cell_type": "markdown",
   "metadata": {},
   "source": [
    "For objective 1:\n",
    "- We should gather demographic data (population size, breakdown by age, employment status, profile, race etc.) for each zipcode, police district, and supervisor district so that we can tailor the analysis for each police commander and supervisor. The additional variables may also give rise to new insights or correlations which could be the impetus for taking different policy or operational approaches. \n",
    "- We should include data from previous years for sharper insights. \n",
    "\n",
    "For objective 2: \n",
    "- Similarly, we should gather demographic data which may be able to sharpen our model. We could also use it to help us understand which other variables have a strong influence on the number of preventable crimes in an area, which could give rise to new policy or operational approaches. \n",
    "- We should include data from previous years for sharper predictions. \n",
    "\n",
    "Besides quantitative data analysis, we should also corroborate our insights and findings with qualitative experiences of Police officers and policymakers who know the ground. Their experiences can augment the recommendations that arise from our quantitative analysis, and capture realities that may not be observable through quantitative data. "
   ]
  },
  {
   "cell_type": "code",
   "execution_count": null,
   "metadata": {},
   "outputs": [],
   "source": []
  }
 ],
 "metadata": {
  "kernelspec": {
   "display_name": "Python 3",
   "language": "python",
   "name": "python3"
  },
  "language_info": {
   "codemirror_mode": {
    "name": "ipython",
    "version": 3
   },
   "file_extension": ".py",
   "mimetype": "text/x-python",
   "name": "python",
   "nbconvert_exporter": "python",
   "pygments_lexer": "ipython3",
   "version": "3.7.4"
  }
 },
 "nbformat": 4,
 "nbformat_minor": 2
}
